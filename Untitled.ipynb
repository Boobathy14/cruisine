{
 "cells": [
  {
   "cell_type": "markdown",
   "id": "4ffdbf92",
   "metadata": {},
   "source": [
    "## Importing all the required file"
   ]
  },
  {
   "cell_type": "code",
   "execution_count": null,
   "id": "075a1ffc",
   "metadata": {},
   "outputs": [],
   "source": []
  },
  {
   "cell_type": "code",
   "execution_count": 6,
   "id": "4037d7bf",
   "metadata": {},
   "outputs": [],
   "source": [
    "import numpy as np\n",
    "import pandas as pd\n",
    "import matplotlib.pyplot as plt\n",
    "import seaborn as sns\n",
    "from sklearn.preprocessing import LabelEncoder\n",
    "from sklearn.model_selection import train_test_split\n",
    "from sklearn.feature_selection import mutual_info_classif\n",
    "from sklearn.ensemble import RandomForestRegressor\n",
    "from sklearn.linear_model import LinearRegression\n",
    "from sklearn.neighbors import KNeighborsRegressor\n",
    "from sklearn import metrics\n",
    "import pickle"
   ]
  },
  {
   "cell_type": "code",
   "execution_count": 7,
   "id": "d436ed47",
   "metadata": {},
   "outputs": [],
   "source": [
    "df = pd.read_csv('./restaurant_data.csv')"
   ]
  },
  {
   "cell_type": "code",
   "execution_count": 8,
   "id": "287f2818",
   "metadata": {},
   "outputs": [
    {
     "data": {
      "text/html": [
       "<div>\n",
       "<style scoped>\n",
       "    .dataframe tbody tr th:only-of-type {\n",
       "        vertical-align: middle;\n",
       "    }\n",
       "\n",
       "    .dataframe tbody tr th {\n",
       "        vertical-align: top;\n",
       "    }\n",
       "\n",
       "    .dataframe thead th {\n",
       "        text-align: right;\n",
       "    }\n",
       "</style>\n",
       "<table border=\"1\" class=\"dataframe\">\n",
       "  <thead>\n",
       "    <tr style=\"text-align: right;\">\n",
       "      <th></th>\n",
       "      <th>url</th>\n",
       "      <th>address</th>\n",
       "      <th>name</th>\n",
       "      <th>online_order</th>\n",
       "      <th>book_table</th>\n",
       "      <th>rate</th>\n",
       "      <th>votes</th>\n",
       "      <th>phone</th>\n",
       "      <th>location</th>\n",
       "      <th>rest_type</th>\n",
       "      <th>dish_liked</th>\n",
       "      <th>cuisines</th>\n",
       "      <th>approx_cost(for two people)</th>\n",
       "      <th>reviews_list</th>\n",
       "      <th>menu_item</th>\n",
       "      <th>listed_in(type)</th>\n",
       "      <th>listed_in(city)</th>\n",
       "      <th>order_date</th>\n",
       "    </tr>\n",
       "  </thead>\n",
       "  <tbody>\n",
       "    <tr>\n",
       "      <th>0</th>\n",
       "      <td>https://www.zomato.com/bangalore/jalsa-banasha...</td>\n",
       "      <td>942, 21st Main Road, 2nd Stage, Banashankari, ...</td>\n",
       "      <td>Jalsa</td>\n",
       "      <td>Yes</td>\n",
       "      <td>Yes</td>\n",
       "      <td>4.1/5</td>\n",
       "      <td>775</td>\n",
       "      <td>080 42297555\\r\\n+91 9743772233</td>\n",
       "      <td>Banashankari</td>\n",
       "      <td>Casual Dining</td>\n",
       "      <td>Pasta, Lunch Buffet, Masala Papad, Paneer Laja...</td>\n",
       "      <td>North Indian, Mughlai, Chinese</td>\n",
       "      <td>800</td>\n",
       "      <td>[('Rated 4.0', 'RATED\\n  A beautiful place to ...</td>\n",
       "      <td>[]</td>\n",
       "      <td>Buffet</td>\n",
       "      <td>Banashankari</td>\n",
       "      <td>2022-03-23</td>\n",
       "    </tr>\n",
       "    <tr>\n",
       "      <th>1</th>\n",
       "      <td>https://www.zomato.com/bangalore/spice-elephan...</td>\n",
       "      <td>2nd Floor, 80 Feet Road, Near Big Bazaar, 6th ...</td>\n",
       "      <td>Spice Elephant</td>\n",
       "      <td>Yes</td>\n",
       "      <td>No</td>\n",
       "      <td>4.1/5</td>\n",
       "      <td>787</td>\n",
       "      <td>080 41714161</td>\n",
       "      <td>Banashankari</td>\n",
       "      <td>Casual Dining</td>\n",
       "      <td>Momos, Lunch Buffet, Chocolate Nirvana, Thai G...</td>\n",
       "      <td>Chinese, North Indian, Thai</td>\n",
       "      <td>800</td>\n",
       "      <td>[('Rated 4.0', 'RATED\\n  Had been here for din...</td>\n",
       "      <td>[]</td>\n",
       "      <td>Buffet</td>\n",
       "      <td>Banashankari</td>\n",
       "      <td>2022-04-16</td>\n",
       "    </tr>\n",
       "    <tr>\n",
       "      <th>2</th>\n",
       "      <td>https://www.zomato.com/SanchurroBangalore?cont...</td>\n",
       "      <td>1112, Next to KIMS Medical College, 17th Cross...</td>\n",
       "      <td>San Churro Cafe</td>\n",
       "      <td>Yes</td>\n",
       "      <td>No</td>\n",
       "      <td>3.8/5</td>\n",
       "      <td>918</td>\n",
       "      <td>+91 9663487993</td>\n",
       "      <td>Banashankari</td>\n",
       "      <td>Cafe, Casual Dining</td>\n",
       "      <td>Churros, Cannelloni, Minestrone Soup, Hot Choc...</td>\n",
       "      <td>Cafe, Mexican, Italian</td>\n",
       "      <td>800</td>\n",
       "      <td>[('Rated 3.0', \"RATED\\n  Ambience is not that ...</td>\n",
       "      <td>[]</td>\n",
       "      <td>Buffet</td>\n",
       "      <td>Banashankari</td>\n",
       "      <td>2022-03-14</td>\n",
       "    </tr>\n",
       "    <tr>\n",
       "      <th>3</th>\n",
       "      <td>https://www.zomato.com/bangalore/addhuri-udupi...</td>\n",
       "      <td>1st Floor, Annakuteera, 3rd Stage, Banashankar...</td>\n",
       "      <td>Addhuri Udupi Bhojana</td>\n",
       "      <td>No</td>\n",
       "      <td>No</td>\n",
       "      <td>3.7/5</td>\n",
       "      <td>88</td>\n",
       "      <td>+91 9620009302</td>\n",
       "      <td>Banashankari</td>\n",
       "      <td>Quick Bites</td>\n",
       "      <td>Masala Dosa</td>\n",
       "      <td>South Indian, North Indian</td>\n",
       "      <td>300</td>\n",
       "      <td>[('Rated 4.0', \"RATED\\n  Great food and proper...</td>\n",
       "      <td>[]</td>\n",
       "      <td>Buffet</td>\n",
       "      <td>Banashankari</td>\n",
       "      <td>2022-05-09</td>\n",
       "    </tr>\n",
       "    <tr>\n",
       "      <th>4</th>\n",
       "      <td>https://www.zomato.com/bangalore/grand-village...</td>\n",
       "      <td>10, 3rd Floor, Lakshmi Associates, Gandhi Baza...</td>\n",
       "      <td>Grand Village</td>\n",
       "      <td>No</td>\n",
       "      <td>No</td>\n",
       "      <td>3.8/5</td>\n",
       "      <td>166</td>\n",
       "      <td>+91 8026612447\\r\\n+91 9901210005</td>\n",
       "      <td>Basavanagudi</td>\n",
       "      <td>Casual Dining</td>\n",
       "      <td>Panipuri, Gol Gappe</td>\n",
       "      <td>North Indian, Rajasthani</td>\n",
       "      <td>600</td>\n",
       "      <td>[('Rated 4.0', 'RATED\\n  Very good restaurant ...</td>\n",
       "      <td>[]</td>\n",
       "      <td>Buffet</td>\n",
       "      <td>Banashankari</td>\n",
       "      <td>2022-03-19</td>\n",
       "    </tr>\n",
       "  </tbody>\n",
       "</table>\n",
       "</div>"
      ],
      "text/plain": [
       "                                                 url  \\\n",
       "0  https://www.zomato.com/bangalore/jalsa-banasha...   \n",
       "1  https://www.zomato.com/bangalore/spice-elephan...   \n",
       "2  https://www.zomato.com/SanchurroBangalore?cont...   \n",
       "3  https://www.zomato.com/bangalore/addhuri-udupi...   \n",
       "4  https://www.zomato.com/bangalore/grand-village...   \n",
       "\n",
       "                                             address                   name  \\\n",
       "0  942, 21st Main Road, 2nd Stage, Banashankari, ...                  Jalsa   \n",
       "1  2nd Floor, 80 Feet Road, Near Big Bazaar, 6th ...         Spice Elephant   \n",
       "2  1112, Next to KIMS Medical College, 17th Cross...        San Churro Cafe   \n",
       "3  1st Floor, Annakuteera, 3rd Stage, Banashankar...  Addhuri Udupi Bhojana   \n",
       "4  10, 3rd Floor, Lakshmi Associates, Gandhi Baza...          Grand Village   \n",
       "\n",
       "  online_order book_table   rate  votes                             phone  \\\n",
       "0          Yes        Yes  4.1/5    775    080 42297555\\r\\n+91 9743772233   \n",
       "1          Yes         No  4.1/5    787                      080 41714161   \n",
       "2          Yes         No  3.8/5    918                    +91 9663487993   \n",
       "3           No         No  3.7/5     88                    +91 9620009302   \n",
       "4           No         No  3.8/5    166  +91 8026612447\\r\\n+91 9901210005   \n",
       "\n",
       "       location            rest_type  \\\n",
       "0  Banashankari        Casual Dining   \n",
       "1  Banashankari        Casual Dining   \n",
       "2  Banashankari  Cafe, Casual Dining   \n",
       "3  Banashankari          Quick Bites   \n",
       "4  Basavanagudi        Casual Dining   \n",
       "\n",
       "                                          dish_liked  \\\n",
       "0  Pasta, Lunch Buffet, Masala Papad, Paneer Laja...   \n",
       "1  Momos, Lunch Buffet, Chocolate Nirvana, Thai G...   \n",
       "2  Churros, Cannelloni, Minestrone Soup, Hot Choc...   \n",
       "3                                        Masala Dosa   \n",
       "4                                Panipuri, Gol Gappe   \n",
       "\n",
       "                         cuisines approx_cost(for two people)  \\\n",
       "0  North Indian, Mughlai, Chinese                         800   \n",
       "1     Chinese, North Indian, Thai                         800   \n",
       "2          Cafe, Mexican, Italian                         800   \n",
       "3      South Indian, North Indian                         300   \n",
       "4        North Indian, Rajasthani                         600   \n",
       "\n",
       "                                        reviews_list menu_item  \\\n",
       "0  [('Rated 4.0', 'RATED\\n  A beautiful place to ...        []   \n",
       "1  [('Rated 4.0', 'RATED\\n  Had been here for din...        []   \n",
       "2  [('Rated 3.0', \"RATED\\n  Ambience is not that ...        []   \n",
       "3  [('Rated 4.0', \"RATED\\n  Great food and proper...        []   \n",
       "4  [('Rated 4.0', 'RATED\\n  Very good restaurant ...        []   \n",
       "\n",
       "  listed_in(type) listed_in(city)  order_date  \n",
       "0          Buffet    Banashankari  2022-03-23  \n",
       "1          Buffet    Banashankari  2022-04-16  \n",
       "2          Buffet    Banashankari  2022-03-14  \n",
       "3          Buffet    Banashankari  2022-05-09  \n",
       "4          Buffet    Banashankari  2022-03-19  "
      ]
     },
     "execution_count": 8,
     "metadata": {},
     "output_type": "execute_result"
    }
   ],
   "source": [
    "df.head()"
   ]
  },
  {
   "cell_type": "markdown",
   "id": "ef1cda0e",
   "metadata": {},
   "source": [
    "## Data Wrangling"
   ]
  },
  {
   "cell_type": "code",
   "execution_count": 9,
   "id": "a1e66c1e",
   "metadata": {},
   "outputs": [],
   "source": [
    "df.drop(['url','address','name','phone'], inplace=True, axis=1)"
   ]
  },
  {
   "cell_type": "code",
   "execution_count": 10,
   "id": "034889ae",
   "metadata": {},
   "outputs": [
    {
     "data": {
      "text/html": [
       "<div>\n",
       "<style scoped>\n",
       "    .dataframe tbody tr th:only-of-type {\n",
       "        vertical-align: middle;\n",
       "    }\n",
       "\n",
       "    .dataframe tbody tr th {\n",
       "        vertical-align: top;\n",
       "    }\n",
       "\n",
       "    .dataframe thead th {\n",
       "        text-align: right;\n",
       "    }\n",
       "</style>\n",
       "<table border=\"1\" class=\"dataframe\">\n",
       "  <thead>\n",
       "    <tr style=\"text-align: right;\">\n",
       "      <th></th>\n",
       "      <th>online_order</th>\n",
       "      <th>book_table</th>\n",
       "      <th>rate</th>\n",
       "      <th>votes</th>\n",
       "      <th>location</th>\n",
       "      <th>rest_type</th>\n",
       "      <th>dish_liked</th>\n",
       "      <th>cuisines</th>\n",
       "      <th>approx_cost(for two people)</th>\n",
       "      <th>reviews_list</th>\n",
       "      <th>menu_item</th>\n",
       "      <th>listed_in(type)</th>\n",
       "      <th>listed_in(city)</th>\n",
       "      <th>order_date</th>\n",
       "    </tr>\n",
       "  </thead>\n",
       "  <tbody>\n",
       "    <tr>\n",
       "      <th>0</th>\n",
       "      <td>Yes</td>\n",
       "      <td>Yes</td>\n",
       "      <td>4.1/5</td>\n",
       "      <td>775</td>\n",
       "      <td>Banashankari</td>\n",
       "      <td>Casual Dining</td>\n",
       "      <td>Pasta, Lunch Buffet, Masala Papad, Paneer Laja...</td>\n",
       "      <td>North Indian, Mughlai, Chinese</td>\n",
       "      <td>800</td>\n",
       "      <td>[('Rated 4.0', 'RATED\\n  A beautiful place to ...</td>\n",
       "      <td>[]</td>\n",
       "      <td>Buffet</td>\n",
       "      <td>Banashankari</td>\n",
       "      <td>2022-03-23</td>\n",
       "    </tr>\n",
       "    <tr>\n",
       "      <th>1</th>\n",
       "      <td>Yes</td>\n",
       "      <td>No</td>\n",
       "      <td>4.1/5</td>\n",
       "      <td>787</td>\n",
       "      <td>Banashankari</td>\n",
       "      <td>Casual Dining</td>\n",
       "      <td>Momos, Lunch Buffet, Chocolate Nirvana, Thai G...</td>\n",
       "      <td>Chinese, North Indian, Thai</td>\n",
       "      <td>800</td>\n",
       "      <td>[('Rated 4.0', 'RATED\\n  Had been here for din...</td>\n",
       "      <td>[]</td>\n",
       "      <td>Buffet</td>\n",
       "      <td>Banashankari</td>\n",
       "      <td>2022-04-16</td>\n",
       "    </tr>\n",
       "    <tr>\n",
       "      <th>2</th>\n",
       "      <td>Yes</td>\n",
       "      <td>No</td>\n",
       "      <td>3.8/5</td>\n",
       "      <td>918</td>\n",
       "      <td>Banashankari</td>\n",
       "      <td>Cafe, Casual Dining</td>\n",
       "      <td>Churros, Cannelloni, Minestrone Soup, Hot Choc...</td>\n",
       "      <td>Cafe, Mexican, Italian</td>\n",
       "      <td>800</td>\n",
       "      <td>[('Rated 3.0', \"RATED\\n  Ambience is not that ...</td>\n",
       "      <td>[]</td>\n",
       "      <td>Buffet</td>\n",
       "      <td>Banashankari</td>\n",
       "      <td>2022-03-14</td>\n",
       "    </tr>\n",
       "    <tr>\n",
       "      <th>3</th>\n",
       "      <td>No</td>\n",
       "      <td>No</td>\n",
       "      <td>3.7/5</td>\n",
       "      <td>88</td>\n",
       "      <td>Banashankari</td>\n",
       "      <td>Quick Bites</td>\n",
       "      <td>Masala Dosa</td>\n",
       "      <td>South Indian, North Indian</td>\n",
       "      <td>300</td>\n",
       "      <td>[('Rated 4.0', \"RATED\\n  Great food and proper...</td>\n",
       "      <td>[]</td>\n",
       "      <td>Buffet</td>\n",
       "      <td>Banashankari</td>\n",
       "      <td>2022-05-09</td>\n",
       "    </tr>\n",
       "    <tr>\n",
       "      <th>4</th>\n",
       "      <td>No</td>\n",
       "      <td>No</td>\n",
       "      <td>3.8/5</td>\n",
       "      <td>166</td>\n",
       "      <td>Basavanagudi</td>\n",
       "      <td>Casual Dining</td>\n",
       "      <td>Panipuri, Gol Gappe</td>\n",
       "      <td>North Indian, Rajasthani</td>\n",
       "      <td>600</td>\n",
       "      <td>[('Rated 4.0', 'RATED\\n  Very good restaurant ...</td>\n",
       "      <td>[]</td>\n",
       "      <td>Buffet</td>\n",
       "      <td>Banashankari</td>\n",
       "      <td>2022-03-19</td>\n",
       "    </tr>\n",
       "  </tbody>\n",
       "</table>\n",
       "</div>"
      ],
      "text/plain": [
       "  online_order book_table   rate  votes      location            rest_type  \\\n",
       "0          Yes        Yes  4.1/5    775  Banashankari        Casual Dining   \n",
       "1          Yes         No  4.1/5    787  Banashankari        Casual Dining   \n",
       "2          Yes         No  3.8/5    918  Banashankari  Cafe, Casual Dining   \n",
       "3           No         No  3.7/5     88  Banashankari          Quick Bites   \n",
       "4           No         No  3.8/5    166  Basavanagudi        Casual Dining   \n",
       "\n",
       "                                          dish_liked  \\\n",
       "0  Pasta, Lunch Buffet, Masala Papad, Paneer Laja...   \n",
       "1  Momos, Lunch Buffet, Chocolate Nirvana, Thai G...   \n",
       "2  Churros, Cannelloni, Minestrone Soup, Hot Choc...   \n",
       "3                                        Masala Dosa   \n",
       "4                                Panipuri, Gol Gappe   \n",
       "\n",
       "                         cuisines approx_cost(for two people)  \\\n",
       "0  North Indian, Mughlai, Chinese                         800   \n",
       "1     Chinese, North Indian, Thai                         800   \n",
       "2          Cafe, Mexican, Italian                         800   \n",
       "3      South Indian, North Indian                         300   \n",
       "4        North Indian, Rajasthani                         600   \n",
       "\n",
       "                                        reviews_list menu_item  \\\n",
       "0  [('Rated 4.0', 'RATED\\n  A beautiful place to ...        []   \n",
       "1  [('Rated 4.0', 'RATED\\n  Had been here for din...        []   \n",
       "2  [('Rated 3.0', \"RATED\\n  Ambience is not that ...        []   \n",
       "3  [('Rated 4.0', \"RATED\\n  Great food and proper...        []   \n",
       "4  [('Rated 4.0', 'RATED\\n  Very good restaurant ...        []   \n",
       "\n",
       "  listed_in(type) listed_in(city)  order_date  \n",
       "0          Buffet    Banashankari  2022-03-23  \n",
       "1          Buffet    Banashankari  2022-04-16  \n",
       "2          Buffet    Banashankari  2022-03-14  \n",
       "3          Buffet    Banashankari  2022-05-09  \n",
       "4          Buffet    Banashankari  2022-03-19  "
      ]
     },
     "execution_count": 10,
     "metadata": {},
     "output_type": "execute_result"
    }
   ],
   "source": [
    "df.head()"
   ]
  },
  {
   "cell_type": "code",
   "execution_count": 11,
   "id": "f8cc55c9",
   "metadata": {},
   "outputs": [
    {
     "data": {
      "text/plain": [
       "array(['Yes', 'No'], dtype=object)"
      ]
     },
     "execution_count": 11,
     "metadata": {},
     "output_type": "execute_result"
    }
   ],
   "source": [
    "df['online_order'].unique()"
   ]
  },
  {
   "cell_type": "code",
   "execution_count": 12,
   "id": "73b61333",
   "metadata": {},
   "outputs": [
    {
     "data": {
      "text/plain": [
       "array(['Yes', 'No'], dtype=object)"
      ]
     },
     "execution_count": 12,
     "metadata": {},
     "output_type": "execute_result"
    }
   ],
   "source": [
    "df['book_table'].unique()"
   ]
  },
  {
   "cell_type": "code",
   "execution_count": 13,
   "id": "8ad2416d",
   "metadata": {},
   "outputs": [
    {
     "data": {
      "text/plain": [
       "array(['Banashankari', 'Basavanagudi', 'Mysore Road', 'Jayanagar',\n",
       "       'Kumaraswamy Layout', 'Rajarajeshwari Nagar', 'Vijay Nagar',\n",
       "       'Uttarahalli', 'JP Nagar', 'South Bangalore', 'City Market',\n",
       "       'Nagarbhavi', 'Bannerghatta Road', 'BTM', 'Kanakapura Road',\n",
       "       'Bommanahalli', nan, 'CV Raman Nagar', 'Electronic City', 'HSR',\n",
       "       'Marathahalli', 'Sarjapur Road', 'Wilson Garden', 'Shanti Nagar',\n",
       "       'Koramangala 5th Block', 'Koramangala 8th Block', 'Richmond Road',\n",
       "       'Koramangala 7th Block', 'Jalahalli', 'Koramangala 4th Block',\n",
       "       'Bellandur', 'Whitefield', 'East Bangalore', 'Old Airport Road',\n",
       "       'Indiranagar', 'Koramangala 1st Block', 'Frazer Town', 'RT Nagar',\n",
       "       'MG Road', 'Brigade Road', 'Lavelle Road', 'Church Street',\n",
       "       'Ulsoor', 'Residency Road', 'Shivajinagar', 'Infantry Road',\n",
       "       'St. Marks Road', 'Cunningham Road', 'Race Course Road',\n",
       "       'Commercial Street', 'Vasanth Nagar', 'HBR Layout', 'Domlur',\n",
       "       'Ejipura', 'Jeevan Bhima Nagar', 'Old Madras Road', 'Malleshwaram',\n",
       "       'Seshadripuram', 'Kammanahalli', 'Koramangala 6th Block',\n",
       "       'Majestic', 'Langford Town', 'Central Bangalore', 'Sanjay Nagar',\n",
       "       'Brookefield', 'ITPL Main Road, Whitefield',\n",
       "       'Varthur Main Road, Whitefield', 'KR Puram',\n",
       "       'Koramangala 2nd Block', 'Koramangala 3rd Block', 'Koramangala',\n",
       "       'Hosur Road', 'Rajajinagar', 'Banaswadi', 'North Bangalore',\n",
       "       'Nagawara', 'Hennur', 'Kalyan Nagar', 'New BEL Road', 'Jakkur',\n",
       "       'Rammurthy Nagar', 'Thippasandra', 'Kaggadasapura', 'Hebbal',\n",
       "       'Kengeri', 'Sankey Road', 'Sadashiv Nagar', 'Basaveshwara Nagar',\n",
       "       'Yeshwantpur', 'West Bangalore', 'Magadi Road', 'Yelahanka',\n",
       "       'Sahakara Nagar', 'Peenya'], dtype=object)"
      ]
     },
     "execution_count": 13,
     "metadata": {},
     "output_type": "execute_result"
    }
   ],
   "source": [
    "df['location'].unique()"
   ]
  },
  {
   "cell_type": "code",
   "execution_count": 14,
   "id": "4784d41e",
   "metadata": {},
   "outputs": [
    {
     "data": {
      "text/plain": [
       "array(['Casual Dining', 'Cafe, Casual Dining', 'Quick Bites',\n",
       "       'Casual Dining, Cafe', 'Cafe', 'Quick Bites, Cafe',\n",
       "       'Cafe, Quick Bites', 'Delivery', 'Mess', 'Dessert Parlor',\n",
       "       'Bakery, Dessert Parlor', 'Pub', 'Bakery', 'Takeaway, Delivery',\n",
       "       'Fine Dining', 'Beverage Shop', 'Sweet Shop', 'Bar',\n",
       "       'Beverage Shop, Quick Bites', 'Confectionery',\n",
       "       'Quick Bites, Beverage Shop', 'Dessert Parlor, Sweet Shop',\n",
       "       'Bakery, Quick Bites', 'Sweet Shop, Quick Bites', 'Kiosk',\n",
       "       'Food Truck', 'Quick Bites, Dessert Parlor',\n",
       "       'Beverage Shop, Dessert Parlor', 'Takeaway', 'Pub, Casual Dining',\n",
       "       'Casual Dining, Bar', 'Dessert Parlor, Beverage Shop',\n",
       "       'Quick Bites, Bakery', 'Dessert Parlor, Quick Bites',\n",
       "       'Microbrewery, Casual Dining', 'Lounge', 'Bar, Casual Dining',\n",
       "       'Food Court', 'Cafe, Bakery', nan, 'Dhaba',\n",
       "       'Quick Bites, Sweet Shop', 'Microbrewery',\n",
       "       'Food Court, Quick Bites', 'Pub, Bar', 'Casual Dining, Pub',\n",
       "       'Lounge, Bar', 'Food Court, Dessert Parlor',\n",
       "       'Casual Dining, Sweet Shop', 'Food Court, Casual Dining',\n",
       "       'Casual Dining, Microbrewery', 'Sweet Shop, Dessert Parlor',\n",
       "       'Bakery, Beverage Shop', 'Lounge, Casual Dining',\n",
       "       'Cafe, Food Court', 'Beverage Shop, Cafe', 'Cafe, Dessert Parlor',\n",
       "       'Dessert Parlor, Cafe', 'Dessert Parlor, Bakery',\n",
       "       'Microbrewery, Pub', 'Bakery, Food Court', 'Club',\n",
       "       'Quick Bites, Food Court', 'Bakery, Cafe', 'Bar, Cafe',\n",
       "       'Pub, Cafe', 'Casual Dining, Irani Cafee', 'Fine Dining, Lounge',\n",
       "       'Bar, Quick Bites', 'Bakery, Kiosk', 'Pub, Microbrewery',\n",
       "       'Microbrewery, Lounge', 'Fine Dining, Microbrewery',\n",
       "       'Fine Dining, Bar', 'Mess, Quick Bites', 'Dessert Parlor, Kiosk',\n",
       "       'Bhojanalya', 'Casual Dining, Quick Bites', 'Pop Up', 'Cafe, Bar',\n",
       "       'Casual Dining, Lounge', 'Bakery, Sweet Shop', 'Microbrewery, Bar',\n",
       "       'Cafe, Lounge', 'Bar, Pub', 'Lounge, Cafe', 'Club, Casual Dining',\n",
       "       'Quick Bites, Mess', 'Quick Bites, Meat Shop',\n",
       "       'Quick Bites, Kiosk', 'Lounge, Microbrewery',\n",
       "       'Food Court, Beverage Shop', 'Dessert Parlor, Food Court',\n",
       "       'Bar, Lounge'], dtype=object)"
      ]
     },
     "execution_count": 14,
     "metadata": {},
     "output_type": "execute_result"
    }
   ],
   "source": [
    "df['rest_type'].unique()"
   ]
  },
  {
   "cell_type": "code",
   "execution_count": 15,
   "id": "6e799a6b",
   "metadata": {},
   "outputs": [
    {
     "data": {
      "text/plain": [
       "array(['Buffet', 'Cafes', 'Delivery', 'Desserts', 'Dine-out',\n",
       "       'Drinks & nightlife', 'Pubs and bars'], dtype=object)"
      ]
     },
     "execution_count": 15,
     "metadata": {},
     "output_type": "execute_result"
    }
   ],
   "source": [
    "df['listed_in(type)'].unique()"
   ]
  },
  {
   "cell_type": "code",
   "execution_count": 16,
   "id": "aecc7192",
   "metadata": {},
   "outputs": [
    {
     "data": {
      "text/plain": [
       "array(['Banashankari', 'Bannerghatta Road', 'Basavanagudi', 'Bellandur',\n",
       "       'Brigade Road', 'Brookefield', 'BTM', 'Church Street',\n",
       "       'Electronic City', 'Frazer Town', 'HSR', 'Indiranagar',\n",
       "       'Jayanagar', 'JP Nagar', 'Kalyan Nagar', 'Kammanahalli',\n",
       "       'Koramangala 4th Block', 'Koramangala 5th Block',\n",
       "       'Koramangala 6th Block', 'Koramangala 7th Block', 'Lavelle Road',\n",
       "       'Malleshwaram', 'Marathahalli', 'MG Road', 'New BEL Road',\n",
       "       'Old Airport Road', 'Rajajinagar', 'Residency Road',\n",
       "       'Sarjapur Road', 'Whitefield'], dtype=object)"
      ]
     },
     "execution_count": 16,
     "metadata": {},
     "output_type": "execute_result"
    }
   ],
   "source": [
    "df['listed_in(city)'].unique()"
   ]
  },
  {
   "cell_type": "code",
   "execution_count": 17,
   "id": "283d2d59",
   "metadata": {},
   "outputs": [
    {
     "data": {
      "text/plain": [
       "array(['[]',\n",
       "       \"['Chocolate Fantasy (Pack Of 5)', 'Pan Cake (Pack Of 6)', 'Gulab Jamun (Pack Of 10)', 'Gulkand Shot (Pack Of 5)', 'Chocolate Decadence (Pack of 2)', 'CheeseCake (Pack Of 2)', 'Red Velvet Slice Cake (Pack of 2)', 'Red Velvet Slice Cake & Cheese Cake (Pack of 2)', 'Red Velvet Slice Cake & Chocolate Decadence Cake (Pack of 2)', 'Hazelnut Brownie (Pack of 2)', 'Moments', 'Red Velvet Cake With Butter Cream Frosting (750 Gm)', 'Red Velvet Slice Cake (Pack of 2)', 'Red Velvet Slice Cake & Cheese Cake (Pack of 2)', 'Red Velvet Slice Cake & Chocolate Decadence Cake (Pack of 2)', 'Red Velvet Slice Cake (Pack of 1)', 'Valentine Red Velvet Jar', 'Valentine Chocolate Jar', 'Valentines Jar Combo', 'Pink Guava 500 ML', 'Oreo Vanilla 500 ML', 'Cookie Crumble 500 ML', 'Chocolate Fantasy', 'Gulkand-E-Bahar', 'Pan Cake', 'Hazelnut Brownie (Pack Of 1)', 'Gulab Jamun (Pack Of 2)', 'Plum Cake', 'Red Velvet Cake With Butter Cream Frosting (750 Gm)', 'Chocolate Mud Cake (700 Gms)', 'CheeseCake (Pack of 1)', 'Chocolate Decadence (Pack of 1)', 'Red Velvet Slice Cake (Pack of 1)']\",\n",
       "       \"['Chole Kulcha Meal', 'Upvas Aloo Paratha With Dahi', 'Singhada Aloo Paratha with Hare Tamatar Ki Sabji', 'Smoked Butter Chicken Combo', 'Paneer Methi Chaman Combo', 'Mutton Bhuna Combo', 'Rajma Masala Meal', 'Dal Makhani Veg Starter Combo', 'Dal Makhani Non-Veg Starter Combo', 'Malai Kofta Combo', 'Jumbo Chicken Wrap', 'Jumbo Veg Wrap', 'Jumbo Falafel Salsa Wrap', 'Chicken Overload Jumbo Wrap', 'Veg Pizza Wrap', 'Chicken Pizza Wrap', 'Mexican Potato Salsa Wrap', 'American Smokey Sausage Wrap', 'Makhani Falafel Wrap', 'Mutton Overload Wrap', 'Mac & Cheese Chicken Wrap', 'Mac & Cheese Veg Wrap', 'Barbeque Chicken Wrap', 'Mutton Boti Wrap', 'Masala Paneer Tikka Wrap', 'Fiery Paneer Tikka Wrap', 'Masala Chicken Tikka Wrap', 'Cheesy Corn Salsa Wrap', 'Chicken Mayo Wrap', 'Cheese Melt Chicken Wrap', 'Cheese Melt Paneer Wrap', 'Double Cheese Meatball Wrap', 'Reshmi Chicken Kebab Wrap', 'Egg Cheese Sausage Wrap', 'Double Egg Chatpata Wrap', 'Cheesy Potato Wrap', 'Veg Falafel Wrap', 'Chicken Bhuna Wrap', 'Chatpate Chole Wrap', 'Fiery Paneer Wrap', 'Fiery Chicken Wrap', 'Mac & Cheese Wrap', 'Hare Tamatar & Sabudana Wada Royal Thali', 'Singhada Aloo Paratha & Hare Tamatar Royal Satvik Meal', 'Smoked Butter Chicken With Omelette', 'Rajma Masala Royal Combo', 'Paneer Methi Chaman Royal Combo', 'Mutton Bhuna Royal Combo', 'Smoked Butter Chicken Royal Combo', 'Malai Kofta Royal Combo', 'Fusion Breakfast', 'Pan Cake', 'Aloo Paratha Combo', 'Chai for 4', 'Cheesy Chicken Meatballs', 'Peach Tea (Serves 4)', 'Falafel Nuggets with Mayo Dip', 'Potato Chilli Shots with Mayo Dip', 'Pan Cake', 'Kashmiri Kahwa (Serves 4)', 'Masala Chai (Serves 4)', 'Chai for 4 + Nature valley bar', 'Kulcha', 'Flavorful Rice Tub', 'Dal Makhani Bowl (Half KG)', 'Smoked Butter Chicken Bowl (Half KG)', 'Mutton Bhuna Bowl (Half KG)', 'Singhada Aloo Paratha Tub', 'Curd Bowl (Half KG)', 'Hare Tamatar Ki Subji (Half KG)', 'Rajma Masala Bowl (Half KG)', 'Triangle Paratha Tub', 'Malai Kofta Bowl (Half Kg)', 'Chocolate Fantasy', 'SWIG Jeera Masala', 'SWIG Green apple', 'Kesar Muesli', 'Gulab Jamun (Pack Of 2)', 'Plum Cake', 'Gulab Jamun (Pack of 1)', 'Moments', 'Hazelnut Brownie (Pack Of 1)', 'CheeseCake (Pack of 1)', 'Chocolate Decadence (Pack of 1)', 'Red Velvet Slice Cake (Pack of 1)', 'Mint Chaas']\",\n",
       "       ...,\n",
       "       '[\\'Veg Thai Green Curry\\', \\'BBQ Sloppy Chicken Burger\\', \"Harry\\'s Farm House Pizza\", \\'Egg Schezwan Fried Rice\\', \\'Chicken Schezwan Noodles\\', \\'Veg Platter\\', \\'Non Veg Platter\\', \\'Tom Yum Goong\\', \\'Tandoori Kalonji Aloo\\', \\'Tandoori Pesto Flowerets\\', \\'Paneer and Pineapple Tikka\\', \\'Adraki Soy Chilli Chicken Kebab\\', \\'Tandoori Chicken Lollipop\\', \\'Parpika Choosa\\', \\'Lamb Seekh Kebab\\', \\'Achari Fish Tikka\\', \\'Rumali Roti\\', \\'Naan\\', \\'Butter Naan\\', \\'Garlic Naan\\', \\'Butter Garlic Naan\\', \\'Cheese Naan\\', \\'Butter Garlic Cheese Naan\\', \\'Garlic Cheese Naan\\', \\'Veg Fried Rice\\', \\'Veg Schezwan Fried Rice\\', \\'Veg Hakka Noodles\\', \\'Veg Schezwan Noodles\\', \\'Veg Singapore Noodles\\', \\'Egg Fried Rice\\', \\'Egg Schezwan Fried Rice\\', \\'Egg Hakka Noodles\\', \\'Egg Schezwan Noodles\\', \\'Egg Singapore Noodles\\', \\'Chicken Hakka Noodles\\', \\'Chicken Schezwan Noodles\\', \\'Chicken Singapore Noodles\\', \\'Prawns Fried Rice\\', \\'Prawns Schezwan Fried Rice\\', \\'Prawns Hakka Noodles\\', \\'Prawns Schezwan Noodles\\', \\'Prawns Singapore Noodles\\', \\'Margherita Pizza\\', \"Harry\\'s Farm House Pizza\", \\'Classique Paneer Tikka Pizza\\', \\'Veg Exotica Pizza\\', \\'Thai Basil Chicken Pizza\\', \\'Classic Chicken Tikka Pizza\\', \\'Spicy Pepperoni Pizza\\', \\'Penne Rustica\\', \\'Spaghetti Aglio e Olio Pasta\\', \\'HarryÃ\\x83\\\\x83Ã\\x82\\\\x83Ã\\x83\\\\x82Ã\\x82\\\\x83Ã\\x83\\\\x83Ã\\x82\\\\x82Ã\\x83\\\\x82Ã\\x82Â¢Ã\\x83\\\\x83Ã\\x82\\\\x83Ã\\x83\\\\x82Ã\\x82\\\\x82Ã\\x83\\\\x83Ã\\x82\\\\x82Ã\\x83\\\\x82Ã\\x82\\\\x80Ã\\x83\\\\x83Ã\\x82\\\\x83Ã\\x83\\\\x82Ã\\x82\\\\x82Ã\\x83\\\\x83Ã\\x82\\\\x82Ã\\x83\\\\x82Ã\\x82\\\\x99s Mac and Cheese Pasta\\', \\'Penne Vodkatini\\', \\'Baked Butter Chicken Lasaqna\\', \\'Spaghetti Carbonara\\', \\'Straight Up Veg Burger\\', \\'BBQ Sloppy Chicken Burger\\', \\'HarryÃ\\x83\\\\x83Ã\\x82\\\\x83Ã\\x83\\\\x82Ã\\x82\\\\x83Ã\\x83\\\\x83Ã\\x82\\\\x82Ã\\x83\\\\x82Ã\\x82Â¢Ã\\x83\\\\x83Ã\\x82\\\\x83Ã\\x83\\\\x82Ã\\x82\\\\x82Ã\\x83\\\\x83Ã\\x82\\\\x82Ã\\x83\\\\x82Ã\\x82\\\\x80Ã\\x83\\\\x83Ã\\x82\\\\x83Ã\\x83\\\\x82Ã\\x82\\\\x82Ã\\x83\\\\x83Ã\\x82\\\\x82Ã\\x83\\\\x82Ã\\x82\\\\x99s Lamb Burger\\', \\'Jazz Burger\\', \\'Paneer Bhurji Pav\\', \\'Egg Kejriwal\\', \\'Anda Bhurji Pav\\', \\'Omelette Pav\\', \\'Egg Chilly\\', \\'Goan Rassa Omelette with Pav\\', \\'Veg Wok Tossed Ginger Sprout Noodles with Crackling Spinach\\', \\'Veg Kung Pao Curry\\', \\'Veg Thai Green Curry\\', \\'Veg Laksa\\', \\'Chicken Wok Tossed Ginger Sprout Noodles with Crackling Spinach\\', \\'Grilled Chilly Chicken\\', \\'Chicken Kung Pao Curry\\', \\'Chicken Thai Green Curry\\', \\'Chicken Laksa\\', \\'Sri Lankan Black Pepper Chicken\\', \\'Nasi Stir Fry Rice\\', \\'Fish Wok Tossed Ginger Sprout Noodles with Crackling Spinach\\', \\'Seafood Kung Pao Curry\\', \\'Seafood Thai Green Curry\\', \\'Seafood Laksa\\', \\'Bangkok Seafood Bowl\\', \\'Crispy Garlic Bread\\', \\'Classic Masala Peanut\\', \\'Salt and Pepper Corn\\', \\'Bombay Spiced Wedges\\', \\'Harrys Onion Rings\\', \\'French Fries\\', \\'Crispy Chilli Potatoes\\', \\'Baked Sweet Potato Wedges\\', \\'Peri Peri Salsa Fries\\', \\'Parmigiana Truffle Fries\\', \\'Chicken Tikka Poutine\\', \\'Lamb Lovers Fries\\', \\'Paneer Bhurji Pav\\', \\'Cheese Chilli Toast\\', \\'Pita Chips with Classic Hummus\\', \\'Paneer Chilli Dry\\', \\'Veg Smoked Quesadillas\\', \\'Fondue Stuffed Mushrooms\\', \\'Wonton Kachories\\', \\'Cottage Cheese Malaysian Satay\\', \\'Muchos Nachos Veggie\\', \"Harry\\'s Cheese Fondue Veg Dunks\", \\'Non Veg Smoked Quesadillas\\', \\'Chilli Chicken\\', \\'Chicken Malaysian Satay\\', \\'Drunken Chicken\\', \\'Crispy Chicken\\', \\'Andhra Chicken Pepper Fry\\', \\'Singapore Chicken Lollipop\\', \\'Fiery Schezwan Pepper Chicken\\', \\'Chilli Chicken Roll\\', \\'BBQ Rum Flambeed Wings\\', \\'Grilled Tenderloin Chilli Fry\\', \\'Keema Pav\\', \\'Pigs in a Blanket\\', \\'Kerala Buff Chilly\\', \\'Buffalo Chicken Winglets\\', \\'Pattaya Beach Fish Goujons\\', \\'Fishermans Basket\\', \"Harry\\'s Cheese Fondue Non Veg Dunks\", \\'Paneer Urban Tikka Masala\\', \"Veg Harry\\'s Stroganoff\", \\'Chicken Urban Tikka Masala\\', \\'Jamaican Jerk Chicken\\', \"Chicken Harry\\'s Stroganoff\", \\'Harrys Pepper Chicken\\', \\'Peppered Tenderloin Steak\\', \"Harry\\'s Beer Batter Fish\", \\'Smoked Paprika Fish\\', \\'Darsaan\\', \\'Sizzling Brownie\\']',\n",
       "       '[\\'Chicken Wings\\', \\'Pepper Chicken\\', \"Beef Grilled One\\'s Burger\", \\'Spicy Louisiana Pizza\\', \\'Chilly Chicken Pizza\\', \\'Chicken Mexicana Pizza\\', \\'Veg Italian Tomato and Fresh Basil Soup\\', \\'Chicken Lemon Coriander Soup\\', \\'Southern Fried Chicken\\', \\'Chicken Wings\\', \\'Gambas\\', \\'Bbq Jerk Chicken\\', \\'Chicken Nachos Carnitos\\', \\'Spicy Chicken Carrebbean Sausages\\', \\'Spicy Pork Carrebbean Sausages\\', \\'Pork Nachos Carnitos\\', \\'Beef Spicy New Orleans Braised Meat\\', \\'Cajun Spiced Fish Fingers\\', \\'Pepper Chicken\\', \\'Chicken Apollo Style\\', \\'Prawns Apollo Style\\', \\'Chicken Streetside Chilly Style\\', \\'Beef Streetside Chilly Style\\', \\'Pork Streetside Chilly Style\\', \\'Chicken Manchurian Style\\', \"Chicken Spicy Chef\\'s Special Style\", \"Beef Spicy Chef\\'s Special Style\", \"Chicken Kim\\'s Style\", \\'Beef Nachos Carnitos\\', \"Beef Kim\\'s Style\", \"Pork Kim\\'s Style\", \\'Chettinad Chicken Roast\\', \\'Chettinad Pudhina Chicken Roast\\', \\'Chicken Kabab\\', \"Prawns Spicy Chef\\'s Special Style\", \\'Prawns Manchurian Style\\', \\'Fried Beef\\', \\'Pork Spicy New Orleans Braised Meat\\', \\'Fried Pork\\', \"Prawns Kim\\'s Style\", \\'Fish Manchurian Style\\', \"Fish Spicy Chef\\'s Special Style\", \\'Fish Streetside Chilly Style\\', \\'Fish Apollo Style\\', \"Fish Kim\\'s Style\", \\'Pork Streetside Chilly Style\\', \"Pork Spicy Chef\\'s Special Style\", \\'Pork Manchurian Style\\', \\'Beef Manchurian Style\\', \"Paneer Korean Kim\\'s Style\", \\'Paneer Tangy Spinach Sauce\\', \\'Paneer Apollo Style Sauce\\', \\'Paneer Singaporean Style Sauce\\', \\'Paneer Ginger Chilly Garlic Sauce\\', \\'Paneer Ginger Chilly Garlic Sauce\\', \\'Paneer Ginger Chilly Garlic Sauce\\', \\'Paneer Hot Garlic Sauce\\', \\'Paneer Lemon Coriander Sauce\\', \"Veg Korean Kim\\'s Style\", \\'Veg Tangy Spinach Sauce\\', \\'Veg Apollo Style Sauce\\', \"Veg Korean Kim\\'s Style\", \\'Veg Singaporean Style Sauce\\', \\'Veg Ginger Chilly Garlic Sauce Burger\\', \\'Veg Chefs Super Spicy Style\\', \\'Veg Hot Garlic Sauce\\', \\'Lemon Coriander Sauce\\', \"Chicken Korean Kim\\'s Style\", \\'Chicken Tangy Spinach Sauce\\', \\'Apollo Style Sauce\\', \\'Chicken Singaporean Style Sauce\\', \\'Chicken Singaporean Style Sauce\\', \\'Chicken Chefs Super Spicy Style\\', \\'Chicken Hot Garlic Sauce\\', \\'Chicken Hot Garlic Sauce\\', \"Beef Korean Kim\\'s Style\", \\'Beef Tangy Spinach Sauce\\', \\'Beef Apollo Style Sauce\\', \\'Beef Singaporean Style Sauce\\', \\'Beef Ginger Chilly Garlic Sauce\\', \\'Beef Chefs Super Spicy Style\\', \\'Beef Chefs Super Spicy Style\\', \\'Beef Hot Garlic Sauce\\', \\'Beef Lemon Coriander Sauce\\', \"Pork Korean Kim\\'s Style\", \\'Pork Tangy Spinach Sauce\\', \\'Pork Apollo Style Sauce\\', \\'Pork Singaporean Style Sauce\\', \\'Pork Ginger Chilly Garlic Sauce\\', \\'Pork Chefs Super Spicy Style\\', \\'Pork Hot Garlic Sauce\\', \\'Pork Lemon Coriander Sauce\\', \"Fish Korean Kim\\'s Style\", \\'Fish Tangy Spinach Sauce\\', \\'Fish Apollo Style Sauce\\', \\'Fish Singaporean Style Sauce\\', \\'Fish Ginger Chilly Garlic Sauce\\', \\'Fish Chefs Super Spicy Style\\', \\'Fish Hot Garlic Sauce\\', \\'Fish Lemon Coriander Sauce\\', \"Korean Kim\\'s Style\", \\'Prawns Tangy Spinach Sauce\\', \\'Prawns Apollo Style Sauce\\', \\'Prawns Apollo Style Sauce\\', \\'Prawns Ginger Chilly Garlic Sauce\\', \\'Prawns Chefs Super Spicy Style\\', \\'Prawns Hot Garlic Sauce\\', \\'Prawns Lemon Coriander Sauce\\', \\'Veg Stir Fried Rice\\', \\'Veg Mongolian Rice\\', \\'Veg Olivers Spicy Rice\\', \\'Veg Singaporean Rice\\', \\'Egg Stir Fried Rice\\', \\'Egg Mongolian Rice\\', \\'Egg Olivers Spicy Rice\\', \\'Egg Singaporean Rice\\', \\'Chicken Stir Fried Rice\\', \\'Chicken Mongolian Rice\\', \\'Chicken Olivers Spicy Rice\\', \\'Chicken Singaporean Rice\\', \\'Beef Stir Fried Rice\\', \\'Beef Mongolian Rice\\', \\'Beef Olivers Spicy Rice\\', \\'Beef Singaporean Rice\\', \\'Pork Stir Fried Rice\\', \\'Pork Mongolian Rice\\', \\'Pork Olivers Spicy Rice\\', \\'Pork Singaporean Rice\\', \\'Fish Stir Fried Rice\\', \\'Fish Mongolian Rice\\', \\'Fish Olivers Spicy Rice\\', \\'Fish Singaporean Rice\\', \\'Prawns Stir Fried Rice\\', \\'Prawns Mongolian Rice\\', \\'Prawns Olivers Spicy Rice\\', \\'Prawns Singaporean Rice\\', \\'Veg Stir Fried Noodles\\', \\'Veg Mongolian Noodles\\', \\'Veg Olivers Spicy Noodles\\', \\'Veg Singaporean Noodles\\', \\'Egg Stir Fried Noodles\\', \\'Egg Mongolian Noodles\\', \\'Egg Olivers Spicy Noodles\\', \\'Egg Singaporean Noodles\\', \\'Chicken Stir Fried Noodles\\', \\'Chicken Mongolian Noodles\\', \\'Chicken Olivers Spicy Noodles\\', \\'Chicken Singaporean Noodles\\', \\'Beef Stir Fried Noodles\\', \\'Beef Mongolian Noodles\\', \\'Beef Olivers Spicy Noodles\\', \\'Beef Singaporean Noodles\\', \\'Pork Stir Fried Noodles\\', \\'Pork Mongolian Noodles\\', \\'Pork Olivers Spicy Noodles\\', \\'Pork Singaporean Noodles\\', \\'Fish Stir Fried Noodles\\', \\'Fish Mongolian Noodles\\', \\'Fish Olivers Spicy Noodles\\', \\'Fish Singaporean Noodles\\', \\'Prawns Stir Fried Noodles\\', \\'Prawns Mongolian Noodles\\', \\'Prawns Olivers Spicy Noodles\\', \\'Prawns Singaporean Noodles\\', \\'Mexican Bean Burger\\', \\'Bean Bbq\\', \\'Ginger Chilly Garlic Sauce Burger\\', \\'Cottage Cheese Jerky Burgers\\', \\'Spinach Ricotta Smashers\\', \\'Grilled Pepper Smashers\\', \\'Grilled Veg Sandwich\\', \\'Falafel\\', \\'Eggplant Parm\\', \"Chicken Grilled One\\'s Burger\", \"Beef Grilled One\\'s Burger\", \\'Almost Famous Moo Burger\\', \\'Miami Chicken Burger\\', \\'Miami Beef Burger\\', \\'Philly Cheesesteak Burger\\', \\'Santa Fe Beef Burger\\', \\'Cleveland Sandwich\\', \\'Philly Cheese Steak Sandwich\\', \\'Cuban Sandwich\\', \\'Pulled Chicken Sandwich\\', \\'Beef Saigon Bahn Mi Sandwich\\', \\'Pork Saigon Bahn Mi Sandwich\\', \\'Cheese Garlic Bread\\', \\'Jalapeno Poppers\\', \\'Cajun Spiced Potato Wedges\\', \\'Bruschetta\\', \\'Spring Rolls\\', \\'Crispy Potato Fingers\\', \\'Manchurian Style\\', \\'Streeside Chilly Style\\', \\'Crispy Fried Babycorn\\', \\'American Corn Bombs\\', \\'Cripsy Fried Paneer\\', \\'Pepper Salt\\', \\'OliverÃ\\x83\\\\x83Ã\\x82\\\\x83Ã\\x83\\\\x82Ã\\x82\\\\x83Ã\\x83\\\\x83Ã\\x82\\\\x82Ã\\x83\\\\x82Ã\\x82Â¢Ã\\x83\\\\x83Ã\\x82\\\\x83Ã\\x83\\\\x82Ã\\x82\\\\x82Ã\\x83\\\\x83Ã\\x82\\\\x82Ã\\x83\\\\x82Ã\\x82\\\\x80Ã\\x83\\\\x83Ã\\x82\\\\x83Ã\\x83\\\\x82Ã\\x82\\\\x82Ã\\x83\\\\x83Ã\\x82\\\\x82Ã\\x83\\\\x82Ã\\x82\\\\x99s Pepper Masala Paneer Roast\\', \\'OliverÃ\\x83\\\\x83Ã\\x82\\\\x83Ã\\x83\\\\x82Ã\\x82\\\\x83Ã\\x83\\\\x83Ã\\x82\\\\x82Ã\\x83\\\\x82Ã\\x82Â¢Ã\\x83\\\\x83Ã\\x82\\\\x83Ã\\x83\\\\x82Ã\\x82\\\\x82Ã\\x83\\\\x83Ã\\x82\\\\x82Ã\\x83\\\\x82Ã\\x82\\\\x80Ã\\x83\\\\x83Ã\\x82\\\\x83Ã\\x83\\\\x82Ã\\x82\\\\x82Ã\\x83\\\\x83Ã\\x82\\\\x82Ã\\x83\\\\x82Ã\\x82\\\\x99s Chettinad Aloo Roast\\', \\'OliverÃ\\x83\\\\x83Ã\\x82\\\\x83Ã\\x83\\\\x82Ã\\x82\\\\x83Ã\\x83\\\\x83Ã\\x82\\\\x82Ã\\x83\\\\x82Ã\\x82Â¢Ã\\x83\\\\x83Ã\\x82\\\\x83Ã\\x83\\\\x82Ã\\x82\\\\x82Ã\\x83\\\\x83Ã\\x82\\\\x82Ã\\x83\\\\x82Ã\\x82\\\\x80Ã\\x83\\\\x83Ã\\x82\\\\x83Ã\\x83\\\\x82Ã\\x82\\\\x82Ã\\x83\\\\x83Ã\\x82\\\\x82Ã\\x83\\\\x82Ã\\x82\\\\x99s Pudhina Aloo Roast\\', \\'Onion Pakoda\\', \\'Paneer Pakoda\\', \\'Egg Bhurji\\', \\'Masala Egg Pakoda\\', \\'Masala Omlette\\', \\'Egg Bhurji With Bacon & Sausage\\', \\'Chilly Egg\\', \\'Egg Bhurji With Bacon And Sausage\\', \\'Pizza Margharita\\', \\'Spicy Louisiana Pizza\\', \\'Wilted Spinach Pizza\\', \\'Eggplant Pizza\\', \\'Patata Salsa Pizza\\', \\'Stirfried Babycorn Pizza\\', \\'Arugula Pizza\\', \\'Pesto Shrooms Pizza\\', \\'Chilly Paneer Pizza\\', \\'Spicy Peri Peri Paneer & Spinach Pizza\\', \\'Mexican Nachos Special Pizza\\', \\'Chicken BBQ Pizza\\', \\'Chicken Sausage Pizza\\', \\'Chilly Chicken Pizza\\', \\'Chicken 65 Pizza\\', \\'Chicken Mexicana Pizza\\', \\'Chicken Bolognese Pizza\\', \\'Mexican Chicken Nachos Pizza\\', \\'Mexican Beef Nachos Pizza\\', \\'Arugula Bacon Pizza\\', \\'Pepperoni Pizza\\', \\'Chorizo Pizza\\', \\'Chocolate Brownie\\']',\n",
       "       \"['Dal Tadka', 'Dal Makhani', 'Paneer Tikka Masala', 'Kadai Paneer', 'Paneer Makhani', 'Malai Kofta', 'Mutton Rogan Josh', 'Jeera Rice', 'Veg Biryani', 'Murgh Dum Biryani', 'Murgh Dum Biryani [Family Pack]', 'Hara Bara Kabab', 'Paneer Tikka', 'Tandoori Murgh', 'Murgh Lahori Kalmi', 'Jalebi with Rabdi', 'Roomali Roti', 'Afghani Naan', 'Stuffed Paratha', 'Paneer Tikka Masala Meal', 'Paneer Makhani Meal', 'Veg Biryani Meal', 'Executive Veg Box Meal', 'Executive Non Veg Box Meal', 'Rajma Meal', 'Peshawari Channa Meal', 'Paneer Tikka Masala Meal', 'Paneer Makhani Meal', 'Egg Curry Meal', 'Butter Chicken Meal', 'Rara Murgh Meal', 'Mutton Rogan Josh Meal', 'Rara Mutton Meal', 'Veg Biryani Meal', 'Egg Biryani Meal', 'Murgh Dum Biryani Meal', 'Murgh Tikka Biryani Meal', 'Mutton Biryani Meal', 'Prawns Biryani Meal', 'Executive Veg Box Meal', 'Executive Non Veg Box Meal', 'Tomato Shorba', 'Murgh Shorba', 'Bagicha ka Salad', 'Karela Salad', 'Kaju Fry Salad', 'Murgh Tikka Salad', 'French Fries', 'Aloo Tak-a-Tak', 'Baby Corn Harimirch Wala', 'Bhatti ka Gobi', 'Hara Bara Kabab', 'Tandoori Mushroom', 'Mushroom Harimirch Wala', 'Paneer Resunga', 'Paneer Tikka', 'Peshawari Seekh Kabab', 'Tandoori Murgh', 'Murgh Lahori Kalmi', 'Mutton Pepper Dry', 'Macchi Amritsari', 'Macchi Tak-a-Tak', 'Tawa Macchi', 'Prawns Balaika', 'Prawns Tak-a-Tak', 'Tandoori Prawns', 'Prawns Harimirch Wala', 'Dal Tadka', 'Dal Makhani', 'Paneer Tikka Masala', 'Paneer Saagwala', 'Kadai Paneer', 'Paneer Makhani', 'Mushroom Matar', 'Veg Patiala', 'Diwani Handi', 'Kadai Veg', 'Rajma', 'Sarson ka Saag', 'Aloo Gobi Masala', 'Bhindi Do Pyaza', 'Peshawari Channa', 'Malai Kofta', 'Kaju Masala', 'Egg Bhurji', 'Egg Masala', 'Rarra Mutton', 'Mutton Rogan Josh', 'Methi Macchi Masala', 'Macchi Jalfrezi', 'Prawns Masala', 'Plain Rice', 'Curd Rice', 'Jeera Rice', 'Veg Pulao', 'Peas Pulao', 'Veg Biryani', 'Egg Biryani', 'Murgh Dum Biryani', 'Murgh Tikka Biryani', 'Mutton Biryani', 'Prawns Biryani', 'Egg Biryani [Family Pack]', 'Murgh Dum Biryani [Family Pack]', 'Murgh Tikka Biryani [Family Pack]', 'Mutton Biryani [Family Pack]', 'Prawns Biryani [Family Pack]', 'Phulka', 'Roti', 'Butter Roti', 'Harimirch Paratha', 'Lalmirch Paratha', 'Garlic Naan', 'Naan', 'Butter Naan', 'Lachha Paratha', 'Kulcha', 'Butter Kulcha', 'Makkai Ki Roti', 'Roomali Roti', 'Afghani Naan', 'Peshawari Paratha', 'Stuffed Paratha', '8 Roti ka Chota Khazana', '12 Roti ka Bada Khazana', 'Egg Paratha', 'Mutton Keema Paratha', 'Roasted Papad', 'Masala Papad', 'Plain Curd', 'Mixed Veg Raita', 'Boondi Raita', 'Cucumber Raita', 'Pineapple Raita', 'Onion Raita', 'Mint Raita', 'Rabdi', 'Jalebi', 'Jalebi with Rabdi', 'Gulab Jamun', 'Rasgulla', 'Bhune Jeere ki Chaach', 'Jal Jeera', 'Meetha Punjabi Lassi', 'Namkeen Punjabi Lassi', 'Masala Punjabi Lassi', 'Patiala Punjabi Lassi', 'Meetha Nimboo Paani', 'Namkeen Nimboo Paani', 'Roohafza Sherbat', 'Mineral Water [1 litre]']\"],\n",
       "      dtype=object)"
      ]
     },
     "execution_count": 17,
     "metadata": {},
     "output_type": "execute_result"
    }
   ],
   "source": [
    "df['menu_item'].unique()"
   ]
  },
  {
   "cell_type": "code",
   "execution_count": 18,
   "id": "b4a675eb",
   "metadata": {},
   "outputs": [],
   "source": [
    "df.drop(['menu_item', 'reviews_list'],axis=1,inplace=True)"
   ]
  },
  {
   "cell_type": "code",
   "execution_count": 19,
   "id": "f8a8bcc6",
   "metadata": {},
   "outputs": [
    {
     "data": {
      "text/plain": [
       "online_order                       0\n",
       "book_table                         0\n",
       "rate                            7775\n",
       "votes                              0\n",
       "location                          21\n",
       "rest_type                        227\n",
       "dish_liked                     28078\n",
       "cuisines                          45\n",
       "approx_cost(for two people)      346\n",
       "listed_in(type)                    0\n",
       "listed_in(city)                    0\n",
       "order_date                         0\n",
       "dtype: int64"
      ]
     },
     "execution_count": 19,
     "metadata": {},
     "output_type": "execute_result"
    }
   ],
   "source": [
    "df.isnull().sum()"
   ]
  },
  {
   "cell_type": "code",
   "execution_count": 20,
   "id": "27f36413",
   "metadata": {},
   "outputs": [],
   "source": [
    "df['rate']=df['rate'].apply(lambda x: str(x).split('/')[0])"
   ]
  },
  {
   "cell_type": "code",
   "execution_count": 21,
   "id": "448e37f2",
   "metadata": {},
   "outputs": [
    {
     "data": {
      "text/plain": [
       "0         4.1\n",
       "1         4.1\n",
       "2         3.8\n",
       "3         3.7\n",
       "4         3.8\n",
       "         ... \n",
       "51712    3.6 \n",
       "51713     nan\n",
       "51714     nan\n",
       "51715    4.3 \n",
       "51716    3.4 \n",
       "Name: rate, Length: 51717, dtype: object"
      ]
     },
     "execution_count": 21,
     "metadata": {},
     "output_type": "execute_result"
    }
   ],
   "source": [
    "df['rate']"
   ]
  },
  {
   "cell_type": "code",
   "execution_count": 22,
   "id": "fce27aa3",
   "metadata": {},
   "outputs": [],
   "source": [
    "df=df.rename(columns={\"listed_in(type)\":\"food_type\",\"listed_in(city)\" : \"city\"})"
   ]
  },
  {
   "cell_type": "code",
   "execution_count": 23,
   "id": "dcd38114",
   "metadata": {},
   "outputs": [
    {
     "data": {
      "text/plain": [
       "Yes    30444\n",
       "No     21273\n",
       "Name: online_order, dtype: int64"
      ]
     },
     "execution_count": 23,
     "metadata": {},
     "output_type": "execute_result"
    }
   ],
   "source": [
    "df['online_order'].value_counts()"
   ]
  },
  {
   "cell_type": "code",
   "execution_count": 24,
   "id": "f59f31cb",
   "metadata": {},
   "outputs": [],
   "source": [
    "df.drop('location', inplace=True, axis=1)"
   ]
  },
  {
   "cell_type": "code",
   "execution_count": 25,
   "id": "f1cb9fd1",
   "metadata": {},
   "outputs": [
    {
     "data": {
      "image/png": "[encoded data removed]",
      "text/plain": [
       "<Figure size 360x360 with 1 Axes>"
      ]
     },
     "metadata": {
      "needs_background": "light"
     },
     "output_type": "display_data"
    }
   ],
   "source": [
    "sns.catplot(data=df,kind='count',x='online_order')\n",
    "plt.title(\"Online-Order\")\n",
    "plt.show()"
   ]
  },
  {
   "cell_type": "code",
   "execution_count": 26,
   "id": "7eef1265",
   "metadata": {},
   "outputs": [
    {
     "data": {
      "image/png": "[encoded data removed]",
      "text/plain": [
       "<Figure size 360x360 with 1 Axes>"
      ]
     },
     "metadata": {
      "needs_background": "light"
     },
     "output_type": "display_data"
    }
   ],
   "source": [
    "sns.catplot(data=df,kind='count',x='book_table')\n",
    "plt.title(\"Table Booking\")\n",
    "plt.show()"
   ]
  },
  {
   "cell_type": "code",
   "execution_count": 27,
   "id": "f703a1e9",
   "metadata": {},
   "outputs": [],
   "source": [
    "df['rate'].replace(to_replace ='nan',value =\"none\", inplace=True)"
   ]
  },
  {
   "cell_type": "code",
   "execution_count": 28,
   "id": "0ac11239",
   "metadata": {},
   "outputs": [
    {
     "data": {
      "text/plain": [
       "online_order                       0\n",
       "book_table                         0\n",
       "rate                               0\n",
       "votes                              0\n",
       "rest_type                        227\n",
       "dish_liked                     28078\n",
       "cuisines                          45\n",
       "approx_cost(for two people)      346\n",
       "food_type                          0\n",
       "city                               0\n",
       "order_date                         0\n",
       "dtype: int64"
      ]
     },
     "execution_count": 28,
     "metadata": {},
     "output_type": "execute_result"
    }
   ],
   "source": [
    "df.isnull().sum()"
   ]
  },
  {
   "cell_type": "code",
   "execution_count": 29,
   "id": "8490d734",
   "metadata": {},
   "outputs": [
    {
     "data": {
      "text/plain": [
       "array(['North Indian, Mughlai, Chinese', 'Chinese, North Indian, Thai',\n",
       "       'Cafe, Mexican, Italian', ...,\n",
       "       'North Indian, Street Food, Biryani', 'Chinese, Mughlai',\n",
       "       'North Indian, Chinese, Arabian, Momos'], dtype=object)"
      ]
     },
     "execution_count": 29,
     "metadata": {},
     "output_type": "execute_result"
    }
   ],
   "source": [
    "df['cuisines'].unique()"
   ]
  },
  {
   "cell_type": "code",
   "execution_count": 30,
   "id": "9df50b0d",
   "metadata": {},
   "outputs": [],
   "source": [
    "df['cuisines'] = df['cuisines'].str.split(',').str[0]"
   ]
  },
  {
   "cell_type": "code",
   "execution_count": 31,
   "id": "c5734e6d",
   "metadata": {},
   "outputs": [],
   "source": [
    "df.drop('dish_liked',inplace=True, axis=1)"
   ]
  },
  {
   "cell_type": "code",
   "execution_count": 32,
   "id": "d541917b",
   "metadata": {},
   "outputs": [
    {
     "data": {
      "text/plain": [
       "online_order                   object\n",
       "book_table                     object\n",
       "rate                           object\n",
       "votes                           int64\n",
       "rest_type                      object\n",
       "cuisines                       object\n",
       "approx_cost(for two people)    object\n",
       "food_type                      object\n",
       "city                           object\n",
       "order_date                     object\n",
       "dtype: object"
      ]
     },
     "execution_count": 32,
     "metadata": {},
     "output_type": "execute_result"
    }
   ],
   "source": [
    "df.dtypes"
   ]
  },
  {
   "cell_type": "code",
   "execution_count": 33,
   "id": "c5886df2",
   "metadata": {},
   "outputs": [],
   "source": [
    "df['order_month'] = pd.to_datetime(df['order_date']).dt.month"
   ]
  },
  {
   "cell_type": "code",
   "execution_count": 34,
   "id": "10c4430b",
   "metadata": {},
   "outputs": [],
   "source": [
    "df['order_date'] = pd.to_datetime(df['order_date']).dt.day"
   ]
  },
  {
   "cell_type": "code",
   "execution_count": 35,
   "id": "231393bc",
   "metadata": {},
   "outputs": [
    {
     "data": {
      "text/html": [
       "<div>\n",
       "<style scoped>\n",
       "    .dataframe tbody tr th:only-of-type {\n",
       "        vertical-align: middle;\n",
       "    }\n",
       "\n",
       "    .dataframe tbody tr th {\n",
       "        vertical-align: top;\n",
       "    }\n",
       "\n",
       "    .dataframe thead th {\n",
       "        text-align: right;\n",
       "    }\n",
       "</style>\n",
       "<table border=\"1\" class=\"dataframe\">\n",
       "  <thead>\n",
       "    <tr style=\"text-align: right;\">\n",
       "      <th></th>\n",
       "      <th>online_order</th>\n",
       "      <th>book_table</th>\n",
       "      <th>rate</th>\n",
       "      <th>votes</th>\n",
       "      <th>rest_type</th>\n",
       "      <th>cuisines</th>\n",
       "      <th>approx_cost(for two people)</th>\n",
       "      <th>food_type</th>\n",
       "      <th>city</th>\n",
       "      <th>order_date</th>\n",
       "      <th>order_month</th>\n",
       "    </tr>\n",
       "  </thead>\n",
       "  <tbody>\n",
       "    <tr>\n",
       "      <th>0</th>\n",
       "      <td>Yes</td>\n",
       "      <td>Yes</td>\n",
       "      <td>4.1</td>\n",
       "      <td>775</td>\n",
       "      <td>Casual Dining</td>\n",
       "      <td>North Indian</td>\n",
       "      <td>800</td>\n",
       "      <td>Buffet</td>\n",
       "      <td>Banashankari</td>\n",
       "      <td>23</td>\n",
       "      <td>3</td>\n",
       "    </tr>\n",
       "    <tr>\n",
       "      <th>1</th>\n",
       "      <td>Yes</td>\n",
       "      <td>No</td>\n",
       "      <td>4.1</td>\n",
       "      <td>787</td>\n",
       "      <td>Casual Dining</td>\n",
       "      <td>Chinese</td>\n",
       "      <td>800</td>\n",
       "      <td>Buffet</td>\n",
       "      <td>Banashankari</td>\n",
       "      <td>16</td>\n",
       "      <td>4</td>\n",
       "    </tr>\n",
       "  </tbody>\n",
       "</table>\n",
       "</div>"
      ],
      "text/plain": [
       "  online_order book_table rate  votes      rest_type      cuisines  \\\n",
       "0          Yes        Yes  4.1    775  Casual Dining  North Indian   \n",
       "1          Yes         No  4.1    787  Casual Dining       Chinese   \n",
       "\n",
       "  approx_cost(for two people) food_type          city  order_date  order_month  \n",
       "0                         800    Buffet  Banashankari          23            3  \n",
       "1                         800    Buffet  Banashankari          16            4  "
      ]
     },
     "execution_count": 35,
     "metadata": {},
     "output_type": "execute_result"
    }
   ],
   "source": [
    "df.head(2)"
   ]
  },
  {
   "cell_type": "markdown",
   "id": "24ddf8a5",
   "metadata": {},
   "source": [
    "## One hot encoding"
   ]
  },
  {
   "cell_type": "code",
   "execution_count": 36,
   "id": "5a7de018",
   "metadata": {},
   "outputs": [],
   "source": [
    "encoder = LabelEncoder()\n",
    "df['city']=encoder.fit_transform(df['city'])\n",
    "df['food_type']=encoder.fit_transform(df['food_type'])"
   ]
  },
  {
   "cell_type": "code",
   "execution_count": 37,
   "id": "5a8ba4f9",
   "metadata": {},
   "outputs": [
    {
     "data": {
      "text/plain": [
       "online_order                     0\n",
       "book_table                       0\n",
       "rate                             0\n",
       "votes                            0\n",
       "rest_type                      227\n",
       "cuisines                        45\n",
       "approx_cost(for two people)    346\n",
       "food_type                        0\n",
       "city                             0\n",
       "order_date                       0\n",
       "order_month                      0\n",
       "dtype: int64"
      ]
     },
     "execution_count": 37,
     "metadata": {},
     "output_type": "execute_result"
    }
   ],
   "source": [
    "df.isnull().sum()"
   ]
  },
  {
   "cell_type": "code",
   "execution_count": 38,
   "id": "2f33c8ba",
   "metadata": {},
   "outputs": [
    {
     "name": "stdout",
     "output_type": "stream",
     "text": [
      "object\n"
     ]
    }
   ],
   "source": [
    "df = df.astype({'approx_cost(for two people)' : str})\n",
    "print(df['approx_cost(for two people)'].dtype)"
   ]
  },
  {
   "cell_type": "code",
   "execution_count": 39,
   "id": "ec90b3bd",
   "metadata": {},
   "outputs": [],
   "source": [
    "df['approx_cost(for two people)'] = df['approx_cost(for two people)'].apply(lambda x : x.replace(',',''))"
   ]
  },
  {
   "cell_type": "code",
   "execution_count": 40,
   "id": "a51d0477",
   "metadata": {},
   "outputs": [
    {
     "data": {
      "text/plain": [
       "online_order                     0\n",
       "book_table                       0\n",
       "rate                             0\n",
       "votes                            0\n",
       "rest_type                      227\n",
       "cuisines                        45\n",
       "approx_cost(for two people)      0\n",
       "food_type                        0\n",
       "city                             0\n",
       "order_date                       0\n",
       "order_month                      0\n",
       "dtype: int64"
      ]
     },
     "execution_count": 40,
     "metadata": {},
     "output_type": "execute_result"
    }
   ],
   "source": [
    "df.isnull().sum()"
   ]
  },
  {
   "cell_type": "code",
   "execution_count": 41,
   "id": "962f2c6b",
   "metadata": {},
   "outputs": [],
   "source": [
    "df.replace(to_replace ='nan',value =0, inplace=True)"
   ]
  },
  {
   "cell_type": "code",
   "execution_count": 42,
   "id": "3378cc0c",
   "metadata": {},
   "outputs": [
    {
     "name": "stdout",
     "output_type": "stream",
     "text": [
      "int32\n"
     ]
    }
   ],
   "source": [
    "df = df.astype({'approx_cost(for two people)' : int})\n",
    "print(df['approx_cost(for two people)'].dtype)"
   ]
  },
  {
   "cell_type": "code",
   "execution_count": 43,
   "id": "6dfb34da",
   "metadata": {},
   "outputs": [
    {
     "data": {
      "text/plain": [
       "online_order                   object\n",
       "book_table                     object\n",
       "rate                           object\n",
       "votes                           int64\n",
       "rest_type                      object\n",
       "cuisines                       object\n",
       "approx_cost(for two people)     int32\n",
       "food_type                       int32\n",
       "city                            int32\n",
       "order_date                      int64\n",
       "order_month                     int64\n",
       "dtype: object"
      ]
     },
     "execution_count": 43,
     "metadata": {},
     "output_type": "execute_result"
    }
   ],
   "source": [
    "df.dtypes"
   ]
  },
  {
   "cell_type": "code",
   "execution_count": 44,
   "id": "40829972",
   "metadata": {},
   "outputs": [
    {
     "data": {
      "text/plain": [
       "551.7155867509716"
      ]
     },
     "execution_count": 44,
     "metadata": {},
     "output_type": "execute_result"
    }
   ],
   "source": [
    "df['approx_cost(for two people)'].mean()"
   ]
  },
  {
   "cell_type": "code",
   "execution_count": 45,
   "id": "cc139b06",
   "metadata": {},
   "outputs": [],
   "source": [
    "df['approx_cost(for two people)'].replace(to_replace =0,value =551, inplace=True)"
   ]
  },
  {
   "cell_type": "code",
   "execution_count": 46,
   "id": "93af5148",
   "metadata": {},
   "outputs": [
    {
     "data": {
      "text/plain": [
       "online_order                     0\n",
       "book_table                       0\n",
       "rate                             0\n",
       "votes                            0\n",
       "rest_type                      227\n",
       "cuisines                        45\n",
       "approx_cost(for two people)      0\n",
       "food_type                        0\n",
       "city                             0\n",
       "order_date                       0\n",
       "order_month                      0\n",
       "dtype: int64"
      ]
     },
     "execution_count": 46,
     "metadata": {},
     "output_type": "execute_result"
    }
   ],
   "source": [
    "df.isnull().sum()"
   ]
  },
  {
   "cell_type": "code",
   "execution_count": 47,
   "id": "a3714f8a",
   "metadata": {},
   "outputs": [],
   "source": [
    "df.drop('rest_type',inplace=True,axis=1)"
   ]
  },
  {
   "cell_type": "code",
   "execution_count": 48,
   "id": "e714405a",
   "metadata": {},
   "outputs": [
    {
     "data": {
      "text/plain": [
       "online_order                    0\n",
       "book_table                      0\n",
       "rate                            0\n",
       "votes                           0\n",
       "cuisines                       45\n",
       "approx_cost(for two people)     0\n",
       "food_type                       0\n",
       "city                            0\n",
       "order_date                      0\n",
       "order_month                     0\n",
       "dtype: int64"
      ]
     },
     "execution_count": 48,
     "metadata": {},
     "output_type": "execute_result"
    }
   ],
   "source": [
    "df.isnull().sum()"
   ]
  },
  {
   "cell_type": "code",
   "execution_count": 49,
   "id": "9fa3eabf",
   "metadata": {},
   "outputs": [
    {
     "data": {
      "text/html": [
       "<div>\n",
       "<style scoped>\n",
       "    .dataframe tbody tr th:only-of-type {\n",
       "        vertical-align: middle;\n",
       "    }\n",
       "\n",
       "    .dataframe tbody tr th {\n",
       "        vertical-align: top;\n",
       "    }\n",
       "\n",
       "    .dataframe thead th {\n",
       "        text-align: right;\n",
       "    }\n",
       "</style>\n",
       "<table border=\"1\" class=\"dataframe\">\n",
       "  <thead>\n",
       "    <tr style=\"text-align: right;\">\n",
       "      <th></th>\n",
       "      <th>online_order</th>\n",
       "      <th>book_table</th>\n",
       "      <th>rate</th>\n",
       "      <th>votes</th>\n",
       "      <th>cuisines</th>\n",
       "      <th>approx_cost(for two people)</th>\n",
       "      <th>food_type</th>\n",
       "      <th>city</th>\n",
       "      <th>order_date</th>\n",
       "      <th>order_month</th>\n",
       "    </tr>\n",
       "  </thead>\n",
       "  <tbody>\n",
       "    <tr>\n",
       "      <th>0</th>\n",
       "      <td>Yes</td>\n",
       "      <td>Yes</td>\n",
       "      <td>4.1</td>\n",
       "      <td>775</td>\n",
       "      <td>North Indian</td>\n",
       "      <td>800</td>\n",
       "      <td>0</td>\n",
       "      <td>1</td>\n",
       "      <td>23</td>\n",
       "      <td>3</td>\n",
       "    </tr>\n",
       "    <tr>\n",
       "      <th>1</th>\n",
       "      <td>Yes</td>\n",
       "      <td>No</td>\n",
       "      <td>4.1</td>\n",
       "      <td>787</td>\n",
       "      <td>Chinese</td>\n",
       "      <td>800</td>\n",
       "      <td>0</td>\n",
       "      <td>1</td>\n",
       "      <td>16</td>\n",
       "      <td>4</td>\n",
       "    </tr>\n",
       "    <tr>\n",
       "      <th>2</th>\n",
       "      <td>Yes</td>\n",
       "      <td>No</td>\n",
       "      <td>3.8</td>\n",
       "      <td>918</td>\n",
       "      <td>Cafe</td>\n",
       "      <td>800</td>\n",
       "      <td>0</td>\n",
       "      <td>1</td>\n",
       "      <td>14</td>\n",
       "      <td>3</td>\n",
       "    </tr>\n",
       "    <tr>\n",
       "      <th>3</th>\n",
       "      <td>No</td>\n",
       "      <td>No</td>\n",
       "      <td>3.7</td>\n",
       "      <td>88</td>\n",
       "      <td>South Indian</td>\n",
       "      <td>300</td>\n",
       "      <td>0</td>\n",
       "      <td>1</td>\n",
       "      <td>9</td>\n",
       "      <td>5</td>\n",
       "    </tr>\n",
       "    <tr>\n",
       "      <th>4</th>\n",
       "      <td>No</td>\n",
       "      <td>No</td>\n",
       "      <td>3.8</td>\n",
       "      <td>166</td>\n",
       "      <td>North Indian</td>\n",
       "      <td>600</td>\n",
       "      <td>0</td>\n",
       "      <td>1</td>\n",
       "      <td>19</td>\n",
       "      <td>3</td>\n",
       "    </tr>\n",
       "    <tr>\n",
       "      <th>...</th>\n",
       "      <td>...</td>\n",
       "      <td>...</td>\n",
       "      <td>...</td>\n",
       "      <td>...</td>\n",
       "      <td>...</td>\n",
       "      <td>...</td>\n",
       "      <td>...</td>\n",
       "      <td>...</td>\n",
       "      <td>...</td>\n",
       "      <td>...</td>\n",
       "    </tr>\n",
       "    <tr>\n",
       "      <th>51712</th>\n",
       "      <td>No</td>\n",
       "      <td>No</td>\n",
       "      <td>3.6</td>\n",
       "      <td>27</td>\n",
       "      <td>Continental</td>\n",
       "      <td>1500</td>\n",
       "      <td>6</td>\n",
       "      <td>29</td>\n",
       "      <td>19</td>\n",
       "      <td>3</td>\n",
       "    </tr>\n",
       "    <tr>\n",
       "      <th>51713</th>\n",
       "      <td>No</td>\n",
       "      <td>No</td>\n",
       "      <td>none</td>\n",
       "      <td>0</td>\n",
       "      <td>Finger Food</td>\n",
       "      <td>600</td>\n",
       "      <td>6</td>\n",
       "      <td>29</td>\n",
       "      <td>9</td>\n",
       "      <td>4</td>\n",
       "    </tr>\n",
       "    <tr>\n",
       "      <th>51714</th>\n",
       "      <td>No</td>\n",
       "      <td>No</td>\n",
       "      <td>none</td>\n",
       "      <td>0</td>\n",
       "      <td>Finger Food</td>\n",
       "      <td>2000</td>\n",
       "      <td>6</td>\n",
       "      <td>29</td>\n",
       "      <td>9</td>\n",
       "      <td>3</td>\n",
       "    </tr>\n",
       "    <tr>\n",
       "      <th>51715</th>\n",
       "      <td>No</td>\n",
       "      <td>Yes</td>\n",
       "      <td>4.3</td>\n",
       "      <td>236</td>\n",
       "      <td>Finger Food</td>\n",
       "      <td>2500</td>\n",
       "      <td>6</td>\n",
       "      <td>29</td>\n",
       "      <td>18</td>\n",
       "      <td>5</td>\n",
       "    </tr>\n",
       "    <tr>\n",
       "      <th>51716</th>\n",
       "      <td>No</td>\n",
       "      <td>No</td>\n",
       "      <td>3.4</td>\n",
       "      <td>13</td>\n",
       "      <td>Finger Food</td>\n",
       "      <td>1500</td>\n",
       "      <td>6</td>\n",
       "      <td>29</td>\n",
       "      <td>7</td>\n",
       "      <td>3</td>\n",
       "    </tr>\n",
       "  </tbody>\n",
       "</table>\n",
       "<p>51717 rows × 10 columns</p>\n",
       "</div>"
      ],
      "text/plain": [
       "      online_order book_table  rate  votes      cuisines  \\\n",
       "0              Yes        Yes   4.1    775  North Indian   \n",
       "1              Yes         No   4.1    787       Chinese   \n",
       "2              Yes         No   3.8    918          Cafe   \n",
       "3               No         No   3.7     88  South Indian   \n",
       "4               No         No   3.8    166  North Indian   \n",
       "...            ...        ...   ...    ...           ...   \n",
       "51712           No         No  3.6      27   Continental   \n",
       "51713           No         No  none      0   Finger Food   \n",
       "51714           No         No  none      0   Finger Food   \n",
       "51715           No        Yes  4.3     236   Finger Food   \n",
       "51716           No         No  3.4      13   Finger Food   \n",
       "\n",
       "       approx_cost(for two people)  food_type  city  order_date  order_month  \n",
       "0                              800          0     1          23            3  \n",
       "1                              800          0     1          16            4  \n",
       "2                              800          0     1          14            3  \n",
       "3                              300          0     1           9            5  \n",
       "4                              600          0     1          19            3  \n",
       "...                            ...        ...   ...         ...          ...  \n",
       "51712                         1500          6    29          19            3  \n",
       "51713                          600          6    29           9            4  \n",
       "51714                         2000          6    29           9            3  \n",
       "51715                         2500          6    29          18            5  \n",
       "51716                         1500          6    29           7            3  \n",
       "\n",
       "[51717 rows x 10 columns]"
      ]
     },
     "execution_count": 49,
     "metadata": {},
     "output_type": "execute_result"
    }
   ],
   "source": [
    "df"
   ]
  },
  {
   "cell_type": "code",
   "execution_count": 50,
   "id": "79e8026d",
   "metadata": {},
   "outputs": [],
   "source": [
    "column = ['online_order', 'book_table']\n",
    "\n",
    "for i in column:\n",
    "    df[i]=encoder.fit_transform(df[i])"
   ]
  },
  {
   "cell_type": "code",
   "execution_count": 51,
   "id": "260e5029",
   "metadata": {},
   "outputs": [
    {
     "data": {
      "text/html": [
       "<div>\n",
       "<style scoped>\n",
       "    .dataframe tbody tr th:only-of-type {\n",
       "        vertical-align: middle;\n",
       "    }\n",
       "\n",
       "    .dataframe tbody tr th {\n",
       "        vertical-align: top;\n",
       "    }\n",
       "\n",
       "    .dataframe thead th {\n",
       "        text-align: right;\n",
       "    }\n",
       "</style>\n",
       "<table border=\"1\" class=\"dataframe\">\n",
       "  <thead>\n",
       "    <tr style=\"text-align: right;\">\n",
       "      <th></th>\n",
       "      <th>online_order</th>\n",
       "      <th>book_table</th>\n",
       "      <th>rate</th>\n",
       "      <th>votes</th>\n",
       "      <th>cuisines</th>\n",
       "      <th>approx_cost(for two people)</th>\n",
       "      <th>food_type</th>\n",
       "      <th>city</th>\n",
       "      <th>order_date</th>\n",
       "      <th>order_month</th>\n",
       "    </tr>\n",
       "  </thead>\n",
       "  <tbody>\n",
       "    <tr>\n",
       "      <th>0</th>\n",
       "      <td>1</td>\n",
       "      <td>1</td>\n",
       "      <td>4.1</td>\n",
       "      <td>775</td>\n",
       "      <td>North Indian</td>\n",
       "      <td>800</td>\n",
       "      <td>0</td>\n",
       "      <td>1</td>\n",
       "      <td>23</td>\n",
       "      <td>3</td>\n",
       "    </tr>\n",
       "    <tr>\n",
       "      <th>1</th>\n",
       "      <td>1</td>\n",
       "      <td>0</td>\n",
       "      <td>4.1</td>\n",
       "      <td>787</td>\n",
       "      <td>Chinese</td>\n",
       "      <td>800</td>\n",
       "      <td>0</td>\n",
       "      <td>1</td>\n",
       "      <td>16</td>\n",
       "      <td>4</td>\n",
       "    </tr>\n",
       "    <tr>\n",
       "      <th>2</th>\n",
       "      <td>1</td>\n",
       "      <td>0</td>\n",
       "      <td>3.8</td>\n",
       "      <td>918</td>\n",
       "      <td>Cafe</td>\n",
       "      <td>800</td>\n",
       "      <td>0</td>\n",
       "      <td>1</td>\n",
       "      <td>14</td>\n",
       "      <td>3</td>\n",
       "    </tr>\n",
       "    <tr>\n",
       "      <th>3</th>\n",
       "      <td>0</td>\n",
       "      <td>0</td>\n",
       "      <td>3.7</td>\n",
       "      <td>88</td>\n",
       "      <td>South Indian</td>\n",
       "      <td>300</td>\n",
       "      <td>0</td>\n",
       "      <td>1</td>\n",
       "      <td>9</td>\n",
       "      <td>5</td>\n",
       "    </tr>\n",
       "    <tr>\n",
       "      <th>4</th>\n",
       "      <td>0</td>\n",
       "      <td>0</td>\n",
       "      <td>3.8</td>\n",
       "      <td>166</td>\n",
       "      <td>North Indian</td>\n",
       "      <td>600</td>\n",
       "      <td>0</td>\n",
       "      <td>1</td>\n",
       "      <td>19</td>\n",
       "      <td>3</td>\n",
       "    </tr>\n",
       "    <tr>\n",
       "      <th>...</th>\n",
       "      <td>...</td>\n",
       "      <td>...</td>\n",
       "      <td>...</td>\n",
       "      <td>...</td>\n",
       "      <td>...</td>\n",
       "      <td>...</td>\n",
       "      <td>...</td>\n",
       "      <td>...</td>\n",
       "      <td>...</td>\n",
       "      <td>...</td>\n",
       "    </tr>\n",
       "    <tr>\n",
       "      <th>51712</th>\n",
       "      <td>0</td>\n",
       "      <td>0</td>\n",
       "      <td>3.6</td>\n",
       "      <td>27</td>\n",
       "      <td>Continental</td>\n",
       "      <td>1500</td>\n",
       "      <td>6</td>\n",
       "      <td>29</td>\n",
       "      <td>19</td>\n",
       "      <td>3</td>\n",
       "    </tr>\n",
       "    <tr>\n",
       "      <th>51713</th>\n",
       "      <td>0</td>\n",
       "      <td>0</td>\n",
       "      <td>none</td>\n",
       "      <td>0</td>\n",
       "      <td>Finger Food</td>\n",
       "      <td>600</td>\n",
       "      <td>6</td>\n",
       "      <td>29</td>\n",
       "      <td>9</td>\n",
       "      <td>4</td>\n",
       "    </tr>\n",
       "    <tr>\n",
       "      <th>51714</th>\n",
       "      <td>0</td>\n",
       "      <td>0</td>\n",
       "      <td>none</td>\n",
       "      <td>0</td>\n",
       "      <td>Finger Food</td>\n",
       "      <td>2000</td>\n",
       "      <td>6</td>\n",
       "      <td>29</td>\n",
       "      <td>9</td>\n",
       "      <td>3</td>\n",
       "    </tr>\n",
       "    <tr>\n",
       "      <th>51715</th>\n",
       "      <td>0</td>\n",
       "      <td>1</td>\n",
       "      <td>4.3</td>\n",
       "      <td>236</td>\n",
       "      <td>Finger Food</td>\n",
       "      <td>2500</td>\n",
       "      <td>6</td>\n",
       "      <td>29</td>\n",
       "      <td>18</td>\n",
       "      <td>5</td>\n",
       "    </tr>\n",
       "    <tr>\n",
       "      <th>51716</th>\n",
       "      <td>0</td>\n",
       "      <td>0</td>\n",
       "      <td>3.4</td>\n",
       "      <td>13</td>\n",
       "      <td>Finger Food</td>\n",
       "      <td>1500</td>\n",
       "      <td>6</td>\n",
       "      <td>29</td>\n",
       "      <td>7</td>\n",
       "      <td>3</td>\n",
       "    </tr>\n",
       "  </tbody>\n",
       "</table>\n",
       "<p>51717 rows × 10 columns</p>\n",
       "</div>"
      ],
      "text/plain": [
       "       online_order  book_table  rate  votes      cuisines  \\\n",
       "0                 1           1   4.1    775  North Indian   \n",
       "1                 1           0   4.1    787       Chinese   \n",
       "2                 1           0   3.8    918          Cafe   \n",
       "3                 0           0   3.7     88  South Indian   \n",
       "4                 0           0   3.8    166  North Indian   \n",
       "...             ...         ...   ...    ...           ...   \n",
       "51712             0           0  3.6      27   Continental   \n",
       "51713             0           0  none      0   Finger Food   \n",
       "51714             0           0  none      0   Finger Food   \n",
       "51715             0           1  4.3     236   Finger Food   \n",
       "51716             0           0  3.4      13   Finger Food   \n",
       "\n",
       "       approx_cost(for two people)  food_type  city  order_date  order_month  \n",
       "0                              800          0     1          23            3  \n",
       "1                              800          0     1          16            4  \n",
       "2                              800          0     1          14            3  \n",
       "3                              300          0     1           9            5  \n",
       "4                              600          0     1          19            3  \n",
       "...                            ...        ...   ...         ...          ...  \n",
       "51712                         1500          6    29          19            3  \n",
       "51713                          600          6    29           9            4  \n",
       "51714                         2000          6    29           9            3  \n",
       "51715                         2500          6    29          18            5  \n",
       "51716                         1500          6    29           7            3  \n",
       "\n",
       "[51717 rows x 10 columns]"
      ]
     },
     "execution_count": 51,
     "metadata": {},
     "output_type": "execute_result"
    }
   ],
   "source": [
    "df"
   ]
  },
  {
   "cell_type": "code",
   "execution_count": 52,
   "id": "6ddc4a79",
   "metadata": {},
   "outputs": [
    {
     "data": {
      "text/plain": [
       "array(['North Indian', 'Chinese', 'Cafe', 'South Indian', 'Pizza',\n",
       "       'Italian', 'Bakery', 'Biryani', 'Street Food', 'Burger',\n",
       "       'Fast Food', 'Ice Cream', 'Healthy Food', 'Asian', 'Desserts',\n",
       "       'Goan', 'Continental', 'Seafood', 'Beverages', 'Mithai',\n",
       "       'Sandwich', 'Mangalorean', 'Rolls', 'Andhra', 'Thai', 'Salad',\n",
       "       'Bengali', 'Arabian', 'BBQ', 'Vietnamese', 'Juices', 'Mexican',\n",
       "       'Tibetan', 'Tea', 'Momos', 'Mughlai', nan, 'Hyderabadi',\n",
       "       'Finger Food', 'Kebab', 'American', 'Kerala', 'Oriya',\n",
       "       'Maharashtrian', 'Bohri', 'African', 'Rajasthani', 'Turkish',\n",
       "       'Tamil', 'Roast Chicken', 'Gujarati', 'South American', 'Konkan',\n",
       "       'Drinks Only', 'Awadhi', 'European', 'Lebanese', 'Japanese',\n",
       "       'Modern Indian', 'Bihari', 'Australian', 'Mediterranean',\n",
       "       'Chettinad', 'Steak', 'Spanish', 'Portuguese', 'Parsi', 'Nepalese',\n",
       "       'Burmese', 'North Eastern', 'Lucknowi', 'Korean', 'Malaysian',\n",
       "       'Sushi', 'Kashmiri', 'French', 'Assamese', 'Coffee',\n",
       "       'Charcoal Chicken', 'Bar Food', 'Singaporean', 'Middle Eastern',\n",
       "       'Naga', 'Belgian', 'Indonesian', 'Russian', 'Iranian', 'German',\n",
       "       'British'], dtype=object)"
      ]
     },
     "execution_count": 52,
     "metadata": {},
     "output_type": "execute_result"
    }
   ],
   "source": [
    "df['cuisines'].unique()"
   ]
  },
  {
   "cell_type": "code",
   "execution_count": 53,
   "id": "34796c87",
   "metadata": {},
   "outputs": [],
   "source": [
    "df['cuisines'].fillna('none',inplace=True)"
   ]
  },
  {
   "cell_type": "code",
   "execution_count": 54,
   "id": "7588fafc",
   "metadata": {},
   "outputs": [
    {
     "data": {
      "text/plain": [
       "online_order                   0\n",
       "book_table                     0\n",
       "rate                           0\n",
       "votes                          0\n",
       "cuisines                       0\n",
       "approx_cost(for two people)    0\n",
       "food_type                      0\n",
       "city                           0\n",
       "order_date                     0\n",
       "order_month                    0\n",
       "dtype: int64"
      ]
     },
     "execution_count": 54,
     "metadata": {},
     "output_type": "execute_result"
    }
   ],
   "source": [
    "df.isnull().sum()"
   ]
  },
  {
   "cell_type": "code",
   "execution_count": 55,
   "id": "f387498e",
   "metadata": {},
   "outputs": [
    {
     "data": {
      "text/plain": [
       "online_order                    int32\n",
       "book_table                      int32\n",
       "rate                           object\n",
       "votes                           int64\n",
       "cuisines                       object\n",
       "approx_cost(for two people)     int32\n",
       "food_type                       int32\n",
       "city                            int32\n",
       "order_date                      int64\n",
       "order_month                     int64\n",
       "dtype: object"
      ]
     },
     "execution_count": 55,
     "metadata": {},
     "output_type": "execute_result"
    }
   ],
   "source": [
    "df.dtypes"
   ]
  },
  {
   "cell_type": "code",
   "execution_count": 56,
   "id": "0cff2fc7",
   "metadata": {},
   "outputs": [],
   "source": [
    "df['cuisines']=encoder.fit_transform(df['cuisines'])"
   ]
  },
  {
   "cell_type": "code",
   "execution_count": 57,
   "id": "68b0b053",
   "metadata": {},
   "outputs": [],
   "source": [
    "df['rate'].replace(to_replace =[\"NEW\",'none','-'], value =0, inplace=True)"
   ]
  },
  {
   "cell_type": "code",
   "execution_count": 58,
   "id": "3402dfe8",
   "metadata": {},
   "outputs": [
    {
     "name": "stdout",
     "output_type": "stream",
     "text": [
      "float64\n"
     ]
    }
   ],
   "source": [
    "df = df.astype({'rate' : float})\n",
    "print(df['rate'].dtype)"
   ]
  },
  {
   "cell_type": "code",
   "execution_count": 59,
   "id": "568ecae7",
   "metadata": {},
   "outputs": [],
   "source": [
    "y = df['cuisines']\n",
    "x = df.drop('cuisines',axis = True)"
   ]
  },
  {
   "cell_type": "code",
   "execution_count": 60,
   "id": "fe97f38b",
   "metadata": {},
   "outputs": [],
   "source": [
    "imp = pd.DataFrame(mutual_info_classif(x,y), index=x.columns)"
   ]
  },
  {
   "cell_type": "code",
   "execution_count": 61,
   "id": "5ad86a32",
   "metadata": {},
   "outputs": [
    {
     "data": {
      "text/html": [
       "<div>\n",
       "<style scoped>\n",
       "    .dataframe tbody tr th:only-of-type {\n",
       "        vertical-align: middle;\n",
       "    }\n",
       "\n",
       "    .dataframe tbody tr th {\n",
       "        vertical-align: top;\n",
       "    }\n",
       "\n",
       "    .dataframe thead th {\n",
       "        text-align: right;\n",
       "    }\n",
       "</style>\n",
       "<table border=\"1\" class=\"dataframe\">\n",
       "  <thead>\n",
       "    <tr style=\"text-align: right;\">\n",
       "      <th></th>\n",
       "      <th>Important</th>\n",
       "    </tr>\n",
       "  </thead>\n",
       "  <tbody>\n",
       "    <tr>\n",
       "      <th>votes</th>\n",
       "      <td>0.597566</td>\n",
       "    </tr>\n",
       "    <tr>\n",
       "      <th>approx_cost(for two people)</th>\n",
       "      <td>0.427362</td>\n",
       "    </tr>\n",
       "    <tr>\n",
       "      <th>food_type</th>\n",
       "      <td>0.248255</td>\n",
       "    </tr>\n",
       "    <tr>\n",
       "      <th>rate</th>\n",
       "      <td>0.172108</td>\n",
       "    </tr>\n",
       "    <tr>\n",
       "      <th>book_table</th>\n",
       "      <td>0.091078</td>\n",
       "    </tr>\n",
       "    <tr>\n",
       "      <th>city</th>\n",
       "      <td>0.048195</td>\n",
       "    </tr>\n",
       "    <tr>\n",
       "      <th>online_order</th>\n",
       "      <td>0.030401</td>\n",
       "    </tr>\n",
       "    <tr>\n",
       "      <th>order_month</th>\n",
       "      <td>0.004564</td>\n",
       "    </tr>\n",
       "    <tr>\n",
       "      <th>order_date</th>\n",
       "      <td>0.001249</td>\n",
       "    </tr>\n",
       "  </tbody>\n",
       "</table>\n",
       "</div>"
      ],
      "text/plain": [
       "                             Important\n",
       "votes                         0.597566\n",
       "approx_cost(for two people)   0.427362\n",
       "food_type                     0.248255\n",
       "rate                          0.172108\n",
       "book_table                    0.091078\n",
       "city                          0.048195\n",
       "online_order                  0.030401\n",
       "order_month                   0.004564\n",
       "order_date                    0.001249"
      ]
     },
     "execution_count": 61,
     "metadata": {},
     "output_type": "execute_result"
    }
   ],
   "source": [
    "imp.columns = ['Important']\n",
    "imp.sort_values(by = 'Important',ascending = False)"
   ]
  },
  {
   "cell_type": "code",
   "execution_count": 62,
   "id": "133240d0",
   "metadata": {},
   "outputs": [
    {
     "data": {
      "text/plain": [
       "<AxesSubplot:>"
      ]
     },
     "execution_count": 62,
     "metadata": {},
     "output_type": "execute_result"
    },
    {
     "data": {
      "image/png": "[encoded data removed]",
      "text/plain": [
       "<Figure size 432x288 with 2 Axes>"
      ]
     },
     "metadata": {
      "needs_background": "light"
     },
     "output_type": "display_data"
    }
   ],
   "source": [
    "sns.heatmap(data =imp)"
   ]
  },
  {
   "cell_type": "markdown",
   "id": "12d18ee9",
   "metadata": {},
   "source": [
    "## Spliting the model"
   ]
  },
  {
   "cell_type": "code",
   "execution_count": 63,
   "id": "740f80c3",
   "metadata": {},
   "outputs": [],
   "source": [
    "x_train , x_test, y_train ,y_test = train_test_split(x,y,random_state=42)"
   ]
  },
  {
   "cell_type": "code",
   "execution_count": 62,
   "id": "4ef0e468",
   "metadata": {},
   "outputs": [],
   "source": [
    "def predict(ml_model):\n",
    "  ml_model.fit(x_train,y_train)\n",
    "  print('Training Score:{}'.format(ml_model.score(x_train, y_train)))\n",
    "  predictions =ml_model.predict(x_test)\n",
    "  print('Prediction are:{}'.format(predictions))\n",
    "  print('/n')\n",
    "  r2_score=metrics.r2_score(y_test,predictions)\n",
    "  print('r^2 score is:{}'.format(r2_score))\n",
    "  print('MAE:',metrics.mean_absolute_error(y_test,predictions))\n",
    "  print('MSE:',metrics.mean_squared_error(y_test,predictions))\n",
    "  print('RMAE:',np.sqrt(metrics.mean_absolute_error(y_test,predictions)))\n",
    "  sns.distplot(y_test-predictions)\n"
   ]
  },
  {
   "cell_type": "code",
   "execution_count": 63,
   "id": "7df4a5ec",
   "metadata": {},
   "outputs": [],
   "source": [
    "rf = RandomForestRegressor(n_estimators=100, max_depth=200)"
   ]
  },
  {
   "cell_type": "code",
   "execution_count": 64,
   "id": "53ab0aa2",
   "metadata": {},
   "outputs": [
    {
     "name": "stdout",
     "output_type": "stream",
     "text": [
      "Training Score:0.8939979224622465\n",
      "Prediction are:[49.92 44.17 42.12 ... 30.3  54.63 14.03]\n",
      "/n\n",
      "r^2 score is:0.286548496903668\n",
      "MAE: 16.723116312193863\n",
      "MSE: 431.8368159354638\n",
      "RMAE: 4.089390701827579\n"
     ]
    },
    {
     "name": "stderr",
     "output_type": "stream",
     "text": [
      "c:\\users\\boobathy a\\appdata\\local\\programs\\python\\python37\\lib\\site-packages\\seaborn\\distributions.py:2619: FutureWarning: `distplot` is a deprecated function and will be removed in a future version. Please adapt your code to use either `displot` (a figure-level function with similar flexibility) or `histplot` (an axes-level function for histograms).\n",
      "  warnings.warn(msg, FutureWarning)\n"
     ]
    },
    {
     "data": {
      "image/png": "[encoded data removed]",
      "text/plain": [
       "<Figure size 432x288 with 1 Axes>"
      ]
     },
     "metadata": {
      "needs_background": "light"
     },
     "output_type": "display_data"
    }
   ],
   "source": [
    "predict(rf)"
   ]
  },
  {
   "cell_type": "code",
   "execution_count": 65,
   "id": "0ac9be59",
   "metadata": {},
   "outputs": [
    {
     "name": "stdout",
     "output_type": "stream",
     "text": [
      "Training Score:0.37872547912818266\n",
      "Prediction are:[46.4 38.8 55.  ... 41.8 46.6 26.6]\n",
      "/n\n",
      "r^2 score is:0.051128536812897085\n",
      "MAE: 19.203325599381284\n",
      "MSE: 574.3314431554525\n",
      "RMAE: 4.382159923985121\n"
     ]
    },
    {
     "name": "stderr",
     "output_type": "stream",
     "text": [
      "c:\\users\\boobathy a\\appdata\\local\\programs\\python\\python37\\lib\\site-packages\\seaborn\\distributions.py:2619: FutureWarning: `distplot` is a deprecated function and will be removed in a future version. Please adapt your code to use either `displot` (a figure-level function with similar flexibility) or `histplot` (an axes-level function for histograms).\n",
      "  warnings.warn(msg, FutureWarning)\n"
     ]
    },
    {
     "data": {
      "image/png": "[encoded data removed]",
      "text/plain": [
       "<Figure size 432x288 with 1 Axes>"
      ]
     },
     "metadata": {
      "needs_background": "light"
     },
     "output_type": "display_data"
    }
   ],
   "source": [
    "predict(KNeighborsRegressor())"
   ]
  },
  {
   "cell_type": "code",
   "execution_count": 66,
   "id": "49336cb9",
   "metadata": {},
   "outputs": [
    {
     "name": "stdout",
     "output_type": "stream",
     "text": [
      "Training Score:0.01542111249993472\n",
      "Prediction are:[41.25380843 43.6066506  40.12395582 ... 40.93660362 45.21985517\n",
      " 44.63409719]\n",
      "/n\n",
      "r^2 score is:0.01197605561998416\n",
      "MAE: 22.458800060371058\n",
      "MSE: 598.0295960655568\n",
      "RMAE: 4.739071645414433\n"
     ]
    },
    {
     "name": "stderr",
     "output_type": "stream",
     "text": [
      "c:\\users\\boobathy a\\appdata\\local\\programs\\python\\python37\\lib\\site-packages\\seaborn\\distributions.py:2619: FutureWarning: `distplot` is a deprecated function and will be removed in a future version. Please adapt your code to use either `displot` (a figure-level function with similar flexibility) or `histplot` (an axes-level function for histograms).\n",
      "  warnings.warn(msg, FutureWarning)\n"
     ]
    },
    {
     "data": {
      "image/png": "[encoded data removed]",
      "text/plain": [
       "<Figure size 432x288 with 1 Axes>"
      ]
     },
     "metadata": {
      "needs_background": "light"
     },
     "output_type": "display_data"
    }
   ],
   "source": [
    "predict(LinearRegression())"
   ]
  },
  {
   "cell_type": "code",
   "execution_count": 67,
   "id": "90769938",
   "metadata": {},
   "outputs": [],
   "source": [
    "with open('randomforest.pkl', 'wb') as files:\n",
    "    pickle.dump(rf, files)"
   ]
  },
  {
   "cell_type": "code",
   "execution_count": 1,
   "id": "a1ee0de7",
   "metadata": {},
   "outputs": [
    {
     "ename": "ImportError",
     "evalue": "cannot import name 'xgboost' from 'sklearn' (c:\\users\\boobathy a\\appdata\\local\\programs\\python\\python37\\lib\\site-packages\\sklearn\\__init__.py)",
     "output_type": "error",
     "traceback": [
      "\u001b[1;31m---------------------------------------------------------------------------\u001b[0m",
      "\u001b[1;31mImportError\u001b[0m                               Traceback (most recent call last)",
      "\u001b[1;32m<ipython-input-1-1ee2717a6c57>\u001b[0m in \u001b[0;36m<module>\u001b[1;34m\u001b[0m\n\u001b[1;32m----> 1\u001b[1;33m \u001b[1;32mfrom\u001b[0m \u001b[0msklearn\u001b[0m \u001b[1;32mimport\u001b[0m \u001b[0mxgboost\u001b[0m\u001b[1;33m\u001b[0m\u001b[1;33m\u001b[0m\u001b[0m\n\u001b[0m",
      "\u001b[1;31mImportError\u001b[0m: cannot import name 'xgboost' from 'sklearn' (c:\\users\\boobathy a\\appdata\\local\\programs\\python\\python37\\lib\\site-packages\\sklearn\\__init__.py)"
     ]
    }
   ],
   "source": [
    "from sklearn import xgboost"
   ]
  },
  {
   "cell_type": "code",
   "execution_count": null,
   "id": "454d31ac",
   "metadata": {},
   "outputs": [],
   "source": [
    "from sklearn "
   ]
  },
  {
   "cell_type": "code",
   "execution_count": 2,
   "id": "0865bd4c",
   "metadata": {},
   "outputs": [
    {
     "name": "stdout",
     "output_type": "stream",
     "text": [
      "Collecting xgboost\n",
      "  Downloading xgboost-1.6.1-py3-none-win_amd64.whl (125.4 MB)\n",
      "Requirement already satisfied: scipy in c:\\users\\boobathy a\\appdata\\local\\programs\\python\\python37\\lib\\site-packages (from xgboost) (1.6.3)\n",
      "Requirement already satisfied: numpy in c:\\users\\boobathy a\\appdata\\local\\programs\\python\\python37\\lib\\site-packages (from xgboost) (1.19.5)\n",
      "Installing collected packages: xgboost\n",
      "Successfully installed xgboost-1.6.1\n"
     ]
    },
    {
     "name": "stderr",
     "output_type": "stream",
     "text": [
      "WARNING: You are using pip version 21.1.1; however, version 22.1.2 is available.\n",
      "You should consider upgrading via the 'c:\\users\\boobathy a\\appdata\\local\\programs\\python\\python37\\python.exe -m pip install --upgrade pip' command.\n"
     ]
    }
   ],
   "source": [
    "!pip install xgboost"
   ]
  },
  {
   "cell_type": "code",
   "execution_count": 64,
   "id": "6d770d19",
   "metadata": {},
   "outputs": [],
   "source": [
    "from xgboost import XGBClassifier"
   ]
  },
  {
   "cell_type": "code",
   "execution_count": 65,
   "id": "eaadf188",
   "metadata": {},
   "outputs": [],
   "source": [
    "xgb = XGBClassifier()"
   ]
  },
  {
   "cell_type": "code",
   "execution_count": 66,
   "id": "830ddd37",
   "metadata": {},
   "outputs": [
    {
     "data": {
      "text/plain": [
       "XGBClassifier(base_score=0.5, booster='gbtree', callbacks=None,\n",
       "              colsample_bylevel=1, colsample_bynode=1, colsample_bytree=1,\n",
       "              early_stopping_rounds=None, enable_categorical=False,\n",
       "              eval_metric=None, gamma=0, gpu_id=-1, grow_policy='depthwise',\n",
       "              importance_type=None, interaction_constraints='',\n",
       "              learning_rate=0.300000012, max_bin=256, max_cat_to_onehot=4,\n",
       "              max_delta_step=0, max_depth=6, max_leaves=0, min_child_weight=1,\n",
       "              missing=nan, monotone_constraints='()', n_estimators=100,\n",
       "              n_jobs=0, num_parallel_tree=1, objective='multi:softprob',\n",
       "              predictor='auto', random_state=0, reg_alpha=0, ...)"
      ]
     },
     "execution_count": 66,
     "metadata": {},
     "output_type": "execute_result"
    }
   ],
   "source": [
    "xgb.fit(x_train,y_train)"
   ]
  },
  {
   "cell_type": "code",
   "execution_count": 68,
   "id": "0036747f",
   "metadata": {},
   "outputs": [],
   "source": [
    "with open('xgb.pkl', 'wb') as files:\n",
    "    pickle.dump(xgb, files)"
   ]
  },
  {
   "cell_type": "code",
   "execution_count": null,
   "id": "fe2fb329",
   "metadata": {},
   "outputs": [],
   "source": []
  }
 ],
 "metadata": {
  "kernelspec": {
   "display_name": "Python 3",
   "language": "python",
   "name": "python3"
  },
  "language_info": {
   "codemirror_mode": {
    "name": "ipython",
    "version": 3
   },
   "file_extension": ".py",
   "mimetype": "text/x-python",
   "name": "python",
   "nbconvert_exporter": "python",
   "pygments_lexer": "ipython3",
   "version": "3.7.3"
  }
 },
 "nbformat": 4,
 "nbformat_minor": 5
}
